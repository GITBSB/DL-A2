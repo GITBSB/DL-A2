{
  "nbformat": 4,
  "nbformat_minor": 0,
  "metadata": {
    "kernelspec": {
      "display_name": "Python 3",
      "language": "python",
      "name": "python3"
    },
    "language_info": {
      "codemirror_mode": {
        "name": "ipython",
        "version": 3
      },
      "file_extension": ".py",
      "mimetype": "text/x-python",
      "name": "python",
      "nbconvert_exporter": "python",
      "pygments_lexer": "ipython3",
      "version": "3.7.6"
    },
    "colab": {
      "name": "Aufgabe3_2.ipynb",
      "provenance": [],
      "collapsed_sections": [],
      "include_colab_link": true
    }
  },
  "cells": [
    {
      "cell_type": "markdown",
      "metadata": {
        "id": "view-in-github",
        "colab_type": "text"
      },
      "source": [
        "<a href=\"https://colab.research.google.com/github/GITBSB/ML-A5/blob/main/Aufgabe3_2.ipynb\" target=\"_parent\"><img src=\"https://colab.research.google.com/assets/colab-badge.svg\" alt=\"Open In Colab\"/></a>"
      ]
    },
    {
      "cell_type": "code",
      "metadata": {
        "colab": {
          "base_uri": "https://localhost:8080/"
        },
        "id": "3FR5rSfXwhJz",
        "outputId": "1ac28ee8-e8cb-49dd-b0ec-0a4970122bcf"
      },
      "source": [
        "!pip install version_information"
      ],
      "execution_count": null,
      "outputs": [
        {
          "output_type": "stream",
          "text": [
            "Requirement already satisfied: version_information in /usr/local/lib/python3.6/dist-packages (1.0.3)\n"
          ],
          "name": "stdout"
        }
      ]
    },
    {
      "cell_type": "code",
      "metadata": {
        "id": "WulkkHvJxIRR"
      },
      "source": [
        "import urllib.request\n",
        "import tarfile\n",
        "import numpy as np\n",
        "import os\n",
        "%load_ext version_information\n",
        "\n"
      ],
      "execution_count": null,
      "outputs": []
    },
    {
      "cell_type": "code",
      "metadata": {
        "id": "YNO4mqZLwhJ0"
      },
      "source": [
        "###huuuuuu\n",
        "\n",
        "data_folder_name = \"20news-18828\"\n",
        "if not os.path.isdir(data_folder_name):\n",
        "    url = \"http://qwone.com/~jason/20Newsgroups/20news-18828.tar.gz\"\n",
        "    ftpstream = urllib.request.urlopen(url)\n",
        "    tar = tarfile.open(fileobj=ftpstream, mode=\"r|gz\")\n",
        "    tar.extractall()\n",
        "    tar.close()\n",
        "    print('Data extracted')\n",
        "data_path = data_folder_name"
      ],
      "execution_count": null,
      "outputs": []
    },
    {
      "cell_type": "code",
      "metadata": {
        "id": "3n47MFshwhJ1"
      },
      "source": [
        "def strip_header(text) :\n",
        "    _before, _blankline, after = text.partition('\\n\\n')\n",
        "    return after"
      ],
      "execution_count": null,
      "outputs": []
    },
    {
      "cell_type": "code",
      "metadata": {
        "colab": {
          "base_uri": "https://localhost:8080/"
        },
        "id": "3PuSFff4whJ1",
        "outputId": "25d333a5-c9c8-4838-d9c9-685da1aa8bab"
      },
      "source": [
        "news_groups = [\"alt.atheism\", \"comp.graphics\", \"sci.space\", \"talk.religion.misc\"]\n",
        "\n",
        "document_array = []\n",
        "document_class = []\n",
        "for root, dirs, files in os.walk(data_path):\n",
        "    for dir_name in filter(news_groups.__contains__, dirs):\n",
        "        path = os.path.join(data_path, dir_name)\n",
        "        filesInDir = os.listdir(path)\n",
        "        for file in filesInDir:\n",
        "            with open(os.path.join(path, file), encoding=\"utf8\", errors=\"ignore\") as f:\n",
        "                contents = f.read()\n",
        "                document_class.append(dir_name)\n",
        "                document_array.append(contents)\n",
        "                \n",
        "# strip headers\n",
        "data = [strip_header(text) for text in document_array]\n",
        "len(data)\n",
        "            "
      ],
      "execution_count": null,
      "outputs": [
        {
          "output_type": "execute_result",
          "data": {
            "text/plain": [
              "3387"
            ]
          },
          "metadata": {
            "tags": []
          },
          "execution_count": 11
        }
      ]
    },
    {
      "cell_type": "code",
      "metadata": {
        "colab": {
          "base_uri": "https://localhost:8080/",
          "height": 147
        },
        "id": "248QL_IowhJ4",
        "outputId": "c1e2031a-86cb-4bbf-a7ae-42d1e614d980"
      },
      "source": [
        "%version_information numpy"
      ],
      "execution_count": null,
      "outputs": [
        {
          "output_type": "execute_result",
          "data": {
            "text/latex": "\\begin{tabular}{|l|l|}\\hline\n{\\bf Software} & {\\bf Version} \\\\ \\hline\\hline\nPython & 3.6.9 64bit [GCC 8.4.0] \\\\ \\hline\nIPython & 5.5.0 \\\\ \\hline\nOS & Linux 4.19.112+ x86\\_64 with Ubuntu 18.04 bionic \\\\ \\hline\nnumpy & 1.18.5 \\\\ \\hline\n\\hline \\multicolumn{2}{|l|}{Thu Nov 19 23:11:22 2020 UTC} \\\\ \\hline\n\\end{tabular}\n",
            "application/json": {
              "Software versions": [
                {
                  "version": "3.6.9 64bit [GCC 8.4.0]",
                  "module": "Python"
                },
                {
                  "version": "5.5.0",
                  "module": "IPython"
                },
                {
                  "version": "Linux 4.19.112+ x86_64 with Ubuntu 18.04 bionic",
                  "module": "OS"
                },
                {
                  "version": "1.18.5",
                  "module": "numpy"
                }
              ]
            },
            "text/html": [
              "<table><tr><th>Software</th><th>Version</th></tr><tr><td>Python</td><td>3.6.9 64bit [GCC 8.4.0]</td></tr><tr><td>IPython</td><td>5.5.0</td></tr><tr><td>OS</td><td>Linux 4.19.112+ x86_64 with Ubuntu 18.04 bionic</td></tr><tr><td>numpy</td><td>1.18.5</td></tr><tr><td colspan='2'>Thu Nov 19 23:11:22 2020 UTC</td></tr></table>"
            ],
            "text/plain": [
              "Software versions\n",
              "Python 3.6.9 64bit [GCC 8.4.0]\n",
              "IPython 5.5.0\n",
              "OS Linux 4.19.112+ x86_64 with Ubuntu 18.04 bionic\n",
              "numpy 1.18.5\n",
              "Thu Nov 19 23:11:22 2020 UTC"
            ]
          },
          "metadata": {
            "tags": []
          },
          "execution_count": 12
        }
      ]
    }
  ]
}