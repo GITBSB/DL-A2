{
 "cells": [
  {
   "cell_type": "code",
   "execution_count": 42,
   "metadata": {},
   "outputs": [
    {
     "name": "stdout",
     "output_type": "stream",
     "text": [
      "The version_information extension is already loaded. To reload it, use:\n",
      "  %reload_ext version_information\n"
     ]
    }
   ],
   "source": [
    "%load_ext version_information"
   ]
  },
  {
   "cell_type": "code",
   "execution_count": 43,
   "metadata": {},
   "outputs": [],
   "source": [
    "import numpy as np\n",
    "import pandas as pd\n",
    "from PIL import Image\n",
    "import zipfile\n",
    "import matplotlib.pyplot as plt\n",
    "import seaborn as sns\n",
    "import os"
   ]
  },
  {
   "cell_type": "code",
   "execution_count": 44,
   "metadata": {},
   "outputs": [],
   "source": [
    "%matplotlib inline\n",
    "plt.style.use('default')"
   ]
  },
  {
   "cell_type": "code",
   "execution_count": 45,
   "metadata": {},
   "outputs": [],
   "source": [
    "url = 'https://archive.ics.uci.edu/ml/machine-learning-databases/housing/housing.data'\n",
    "cols   =['CRIM','ZN','INDUS','CHAS','NOX','RM','AGE','DIS','RAD','TAX','PTRATIO','B','LSTAT','TGT']\n",
    "boston = pd.read_csv(url, sep =' ', skipinitialspace = True, header = None, names =cols, index_col = False)"
   ]
  },
  {
   "cell_type": "code",
   "execution_count": 46,
   "metadata": {},
   "outputs": [
    {
     "data": {
      "text/html": [
       "<div>\n",
       "<style scoped>\n",
       "    .dataframe tbody tr th:only-of-type {\n",
       "        vertical-align: middle;\n",
       "    }\n",
       "\n",
       "    .dataframe tbody tr th {\n",
       "        vertical-align: top;\n",
       "    }\n",
       "\n",
       "    .dataframe thead th {\n",
       "        text-align: right;\n",
       "    }\n",
       "</style>\n",
       "<table border=\"1\" class=\"dataframe\">\n",
       "  <thead>\n",
       "    <tr style=\"text-align: right;\">\n",
       "      <th></th>\n",
       "      <th>CRIM</th>\n",
       "      <th>ZN</th>\n",
       "      <th>INDUS</th>\n",
       "      <th>CHAS</th>\n",
       "      <th>NOX</th>\n",
       "      <th>RM</th>\n",
       "      <th>AGE</th>\n",
       "      <th>DIS</th>\n",
       "      <th>RAD</th>\n",
       "      <th>TAX</th>\n",
       "      <th>PTRATIO</th>\n",
       "      <th>B</th>\n",
       "      <th>LSTAT</th>\n",
       "      <th>TGT</th>\n",
       "    </tr>\n",
       "  </thead>\n",
       "  <tbody>\n",
       "    <tr>\n",
       "      <th>0</th>\n",
       "      <td>0.00632</td>\n",
       "      <td>18.0</td>\n",
       "      <td>2.31</td>\n",
       "      <td>0</td>\n",
       "      <td>0.538</td>\n",
       "      <td>6.575</td>\n",
       "      <td>65.2</td>\n",
       "      <td>4.0900</td>\n",
       "      <td>1</td>\n",
       "      <td>296.0</td>\n",
       "      <td>15.3</td>\n",
       "      <td>396.90</td>\n",
       "      <td>4.98</td>\n",
       "      <td>24.0</td>\n",
       "    </tr>\n",
       "    <tr>\n",
       "      <th>1</th>\n",
       "      <td>0.02731</td>\n",
       "      <td>0.0</td>\n",
       "      <td>7.07</td>\n",
       "      <td>0</td>\n",
       "      <td>0.469</td>\n",
       "      <td>6.421</td>\n",
       "      <td>78.9</td>\n",
       "      <td>4.9671</td>\n",
       "      <td>2</td>\n",
       "      <td>242.0</td>\n",
       "      <td>17.8</td>\n",
       "      <td>396.90</td>\n",
       "      <td>9.14</td>\n",
       "      <td>21.6</td>\n",
       "    </tr>\n",
       "    <tr>\n",
       "      <th>2</th>\n",
       "      <td>0.02729</td>\n",
       "      <td>0.0</td>\n",
       "      <td>7.07</td>\n",
       "      <td>0</td>\n",
       "      <td>0.469</td>\n",
       "      <td>7.185</td>\n",
       "      <td>61.1</td>\n",
       "      <td>4.9671</td>\n",
       "      <td>2</td>\n",
       "      <td>242.0</td>\n",
       "      <td>17.8</td>\n",
       "      <td>392.83</td>\n",
       "      <td>4.03</td>\n",
       "      <td>34.7</td>\n",
       "    </tr>\n",
       "    <tr>\n",
       "      <th>3</th>\n",
       "      <td>0.03237</td>\n",
       "      <td>0.0</td>\n",
       "      <td>2.18</td>\n",
       "      <td>0</td>\n",
       "      <td>0.458</td>\n",
       "      <td>6.998</td>\n",
       "      <td>45.8</td>\n",
       "      <td>6.0622</td>\n",
       "      <td>3</td>\n",
       "      <td>222.0</td>\n",
       "      <td>18.7</td>\n",
       "      <td>394.63</td>\n",
       "      <td>2.94</td>\n",
       "      <td>33.4</td>\n",
       "    </tr>\n",
       "    <tr>\n",
       "      <th>4</th>\n",
       "      <td>0.06905</td>\n",
       "      <td>0.0</td>\n",
       "      <td>2.18</td>\n",
       "      <td>0</td>\n",
       "      <td>0.458</td>\n",
       "      <td>7.147</td>\n",
       "      <td>54.2</td>\n",
       "      <td>6.0622</td>\n",
       "      <td>3</td>\n",
       "      <td>222.0</td>\n",
       "      <td>18.7</td>\n",
       "      <td>396.90</td>\n",
       "      <td>5.33</td>\n",
       "      <td>36.2</td>\n",
       "    </tr>\n",
       "    <tr>\n",
       "      <th>...</th>\n",
       "      <td>...</td>\n",
       "      <td>...</td>\n",
       "      <td>...</td>\n",
       "      <td>...</td>\n",
       "      <td>...</td>\n",
       "      <td>...</td>\n",
       "      <td>...</td>\n",
       "      <td>...</td>\n",
       "      <td>...</td>\n",
       "      <td>...</td>\n",
       "      <td>...</td>\n",
       "      <td>...</td>\n",
       "      <td>...</td>\n",
       "      <td>...</td>\n",
       "    </tr>\n",
       "    <tr>\n",
       "      <th>501</th>\n",
       "      <td>0.06263</td>\n",
       "      <td>0.0</td>\n",
       "      <td>11.93</td>\n",
       "      <td>0</td>\n",
       "      <td>0.573</td>\n",
       "      <td>6.593</td>\n",
       "      <td>69.1</td>\n",
       "      <td>2.4786</td>\n",
       "      <td>1</td>\n",
       "      <td>273.0</td>\n",
       "      <td>21.0</td>\n",
       "      <td>391.99</td>\n",
       "      <td>9.67</td>\n",
       "      <td>22.4</td>\n",
       "    </tr>\n",
       "    <tr>\n",
       "      <th>502</th>\n",
       "      <td>0.04527</td>\n",
       "      <td>0.0</td>\n",
       "      <td>11.93</td>\n",
       "      <td>0</td>\n",
       "      <td>0.573</td>\n",
       "      <td>6.120</td>\n",
       "      <td>76.7</td>\n",
       "      <td>2.2875</td>\n",
       "      <td>1</td>\n",
       "      <td>273.0</td>\n",
       "      <td>21.0</td>\n",
       "      <td>396.90</td>\n",
       "      <td>9.08</td>\n",
       "      <td>20.6</td>\n",
       "    </tr>\n",
       "    <tr>\n",
       "      <th>503</th>\n",
       "      <td>0.06076</td>\n",
       "      <td>0.0</td>\n",
       "      <td>11.93</td>\n",
       "      <td>0</td>\n",
       "      <td>0.573</td>\n",
       "      <td>6.976</td>\n",
       "      <td>91.0</td>\n",
       "      <td>2.1675</td>\n",
       "      <td>1</td>\n",
       "      <td>273.0</td>\n",
       "      <td>21.0</td>\n",
       "      <td>396.90</td>\n",
       "      <td>5.64</td>\n",
       "      <td>23.9</td>\n",
       "    </tr>\n",
       "    <tr>\n",
       "      <th>504</th>\n",
       "      <td>0.10959</td>\n",
       "      <td>0.0</td>\n",
       "      <td>11.93</td>\n",
       "      <td>0</td>\n",
       "      <td>0.573</td>\n",
       "      <td>6.794</td>\n",
       "      <td>89.3</td>\n",
       "      <td>2.3889</td>\n",
       "      <td>1</td>\n",
       "      <td>273.0</td>\n",
       "      <td>21.0</td>\n",
       "      <td>393.45</td>\n",
       "      <td>6.48</td>\n",
       "      <td>22.0</td>\n",
       "    </tr>\n",
       "    <tr>\n",
       "      <th>505</th>\n",
       "      <td>0.04741</td>\n",
       "      <td>0.0</td>\n",
       "      <td>11.93</td>\n",
       "      <td>0</td>\n",
       "      <td>0.573</td>\n",
       "      <td>6.030</td>\n",
       "      <td>80.8</td>\n",
       "      <td>2.5050</td>\n",
       "      <td>1</td>\n",
       "      <td>273.0</td>\n",
       "      <td>21.0</td>\n",
       "      <td>396.90</td>\n",
       "      <td>7.88</td>\n",
       "      <td>11.9</td>\n",
       "    </tr>\n",
       "  </tbody>\n",
       "</table>\n",
       "<p>506 rows × 14 columns</p>\n",
       "</div>"
      ],
      "text/plain": [
       "        CRIM    ZN  INDUS  CHAS    NOX     RM   AGE     DIS  RAD    TAX  \\\n",
       "0    0.00632  18.0   2.31     0  0.538  6.575  65.2  4.0900    1  296.0   \n",
       "1    0.02731   0.0   7.07     0  0.469  6.421  78.9  4.9671    2  242.0   \n",
       "2    0.02729   0.0   7.07     0  0.469  7.185  61.1  4.9671    2  242.0   \n",
       "3    0.03237   0.0   2.18     0  0.458  6.998  45.8  6.0622    3  222.0   \n",
       "4    0.06905   0.0   2.18     0  0.458  7.147  54.2  6.0622    3  222.0   \n",
       "..       ...   ...    ...   ...    ...    ...   ...     ...  ...    ...   \n",
       "501  0.06263   0.0  11.93     0  0.573  6.593  69.1  2.4786    1  273.0   \n",
       "502  0.04527   0.0  11.93     0  0.573  6.120  76.7  2.2875    1  273.0   \n",
       "503  0.06076   0.0  11.93     0  0.573  6.976  91.0  2.1675    1  273.0   \n",
       "504  0.10959   0.0  11.93     0  0.573  6.794  89.3  2.3889    1  273.0   \n",
       "505  0.04741   0.0  11.93     0  0.573  6.030  80.8  2.5050    1  273.0   \n",
       "\n",
       "     PTRATIO       B  LSTAT   TGT  \n",
       "0       15.3  396.90   4.98  24.0  \n",
       "1       17.8  396.90   9.14  21.6  \n",
       "2       17.8  392.83   4.03  34.7  \n",
       "3       18.7  394.63   2.94  33.4  \n",
       "4       18.7  396.90   5.33  36.2  \n",
       "..       ...     ...    ...   ...  \n",
       "501     21.0  391.99   9.67  22.4  \n",
       "502     21.0  396.90   9.08  20.6  \n",
       "503     21.0  396.90   5.64  23.9  \n",
       "504     21.0  393.45   6.48  22.0  \n",
       "505     21.0  396.90   7.88  11.9  \n",
       "\n",
       "[506 rows x 14 columns]"
      ]
     },
     "execution_count": 46,
     "metadata": {},
     "output_type": "execute_result"
    }
   ],
   "source": [
    "boston"
   ]
  },
  {
   "cell_type": "code",
   "execution_count": 47,
   "metadata": {},
   "outputs": [],
   "source": [
    "def KumSum(var_prop):\n",
    "    kumSum = 0\n",
    "    kumVar = []\n",
    "    for x in var_prop:\n",
    "        kumSum += x\n",
    "        kumVar.append(np.round(kumSum, decimals=5))\n",
    "\n",
    "    return kumVar"
   ]
  },
  {
   "cell_type": "code",
   "execution_count": 48,
   "metadata": {},
   "outputs": [],
   "source": [
    "def hauptkomponentenanalyse(data):\n",
    "    u, s, v = np.linalg.svd(data)\n",
    "    \n",
    "    eigenwerte = np.round(s**2/(len(u)), decimals=3)  # Warum?\n",
    "    var_prop = np.round(s**2/np.sum(s**2), decimals=3)\n",
    "    kumVar = KumSum(var_prop)\n",
    "    \n",
    "    pcas = ['PC' + str(i) for i in range(1, len(kumVar) + 1)]\n",
    "    resTable = pd.DataFrame(eigenwerte, columns=[\"Eigenwerte\"], index=pcas)\n",
    "    resTable = resTable.assign(Anteil=var_prop, SumAnteil=kumVar)\n",
    "    return u, s, v, resTable"
   ]
  },
  {
   "cell_type": "code",
   "execution_count": 49,
   "metadata": {},
   "outputs": [],
   "source": [
    "boston_scaled = (boston-boston.mean())/boston.std()\n",
    "u, s, v, resTable = hauptkomponentenanalyse(boston_scaled)"
   ]
  },
  {
   "cell_type": "code",
   "execution_count": 50,
   "metadata": {},
   "outputs": [
    {
     "data": {
      "text/html": [
       "<div>\n",
       "<style scoped>\n",
       "    .dataframe tbody tr th:only-of-type {\n",
       "        vertical-align: middle;\n",
       "    }\n",
       "\n",
       "    .dataframe tbody tr th {\n",
       "        vertical-align: top;\n",
       "    }\n",
       "\n",
       "    .dataframe thead th {\n",
       "        text-align: right;\n",
       "    }\n",
       "</style>\n",
       "<table border=\"1\" class=\"dataframe\">\n",
       "  <thead>\n",
       "    <tr style=\"text-align: right;\">\n",
       "      <th></th>\n",
       "      <th>Eigenwerte</th>\n",
       "      <th>Anteil</th>\n",
       "      <th>SumAnteil</th>\n",
       "    </tr>\n",
       "  </thead>\n",
       "  <tbody>\n",
       "    <tr>\n",
       "      <th>PC1</th>\n",
       "      <td>6.533</td>\n",
       "      <td>0.468</td>\n",
       "      <td>0.468</td>\n",
       "    </tr>\n",
       "    <tr>\n",
       "      <th>PC2</th>\n",
       "      <td>1.646</td>\n",
       "      <td>0.118</td>\n",
       "      <td>0.586</td>\n",
       "    </tr>\n",
       "    <tr>\n",
       "      <th>PC3</th>\n",
       "      <td>1.346</td>\n",
       "      <td>0.096</td>\n",
       "      <td>0.682</td>\n",
       "    </tr>\n",
       "    <tr>\n",
       "      <th>PC4</th>\n",
       "      <td>0.885</td>\n",
       "      <td>0.063</td>\n",
       "      <td>0.745</td>\n",
       "    </tr>\n",
       "    <tr>\n",
       "      <th>PC5</th>\n",
       "      <td>0.849</td>\n",
       "      <td>0.061</td>\n",
       "      <td>0.806</td>\n",
       "    </tr>\n",
       "    <tr>\n",
       "      <th>PC6</th>\n",
       "      <td>0.659</td>\n",
       "      <td>0.047</td>\n",
       "      <td>0.853</td>\n",
       "    </tr>\n",
       "    <tr>\n",
       "      <th>PC7</th>\n",
       "      <td>0.534</td>\n",
       "      <td>0.038</td>\n",
       "      <td>0.891</td>\n",
       "    </tr>\n",
       "    <tr>\n",
       "      <th>PC8</th>\n",
       "      <td>0.402</td>\n",
       "      <td>0.029</td>\n",
       "      <td>0.920</td>\n",
       "    </tr>\n",
       "    <tr>\n",
       "      <th>PC9</th>\n",
       "      <td>0.277</td>\n",
       "      <td>0.020</td>\n",
       "      <td>0.940</td>\n",
       "    </tr>\n",
       "    <tr>\n",
       "      <th>PC10</th>\n",
       "      <td>0.252</td>\n",
       "      <td>0.018</td>\n",
       "      <td>0.958</td>\n",
       "    </tr>\n",
       "    <tr>\n",
       "      <th>PC11</th>\n",
       "      <td>0.212</td>\n",
       "      <td>0.015</td>\n",
       "      <td>0.973</td>\n",
       "    </tr>\n",
       "    <tr>\n",
       "      <th>PC12</th>\n",
       "      <td>0.183</td>\n",
       "      <td>0.013</td>\n",
       "      <td>0.986</td>\n",
       "    </tr>\n",
       "    <tr>\n",
       "      <th>PC13</th>\n",
       "      <td>0.134</td>\n",
       "      <td>0.010</td>\n",
       "      <td>0.996</td>\n",
       "    </tr>\n",
       "    <tr>\n",
       "      <th>PC14</th>\n",
       "      <td>0.060</td>\n",
       "      <td>0.004</td>\n",
       "      <td>1.000</td>\n",
       "    </tr>\n",
       "  </tbody>\n",
       "</table>\n",
       "</div>"
      ],
      "text/plain": [
       "      Eigenwerte  Anteil  SumAnteil\n",
       "PC1        6.533   0.468      0.468\n",
       "PC2        1.646   0.118      0.586\n",
       "PC3        1.346   0.096      0.682\n",
       "PC4        0.885   0.063      0.745\n",
       "PC5        0.849   0.061      0.806\n",
       "PC6        0.659   0.047      0.853\n",
       "PC7        0.534   0.038      0.891\n",
       "PC8        0.402   0.029      0.920\n",
       "PC9        0.277   0.020      0.940\n",
       "PC10       0.252   0.018      0.958\n",
       "PC11       0.212   0.015      0.973\n",
       "PC12       0.183   0.013      0.986\n",
       "PC13       0.134   0.010      0.996\n",
       "PC14       0.060   0.004      1.000"
      ]
     },
     "execution_count": 50,
     "metadata": {},
     "output_type": "execute_result"
    }
   ],
   "source": [
    "resTable"
   ]
  },
  {
   "cell_type": "markdown",
   "metadata": {},
   "source": [
    "Wieviele Dimensionen können Sie weglassen,wenn Sie 10%, 5% und 1% Fehler bei der Dimensionsreduktion zulassen?"
   ]
  },
  {
   "cell_type": "markdown",
   "metadata": {},
   "source": [
    "10% - braucht PC1 bis PC8\n",
    "\n",
    "5%- braucht PC1 bis PC10\n",
    "\n",
    "1% - braucht PC1 bis PC13"
   ]
  },
  {
   "cell_type": "markdown",
   "metadata": {},
   "source": [
    "______________________\n",
    "c. Korrelationskoeffizienten der Projektionen auf die ersten drei Haupt-komponenten mit den ursprünglichen Variablen berechnen."
   ]
  },
  {
   "cell_type": "code",
   "execution_count": 56,
   "metadata": {},
   "outputs": [],
   "source": [
    "pcs = ['PC' + str(i) for i in range(1, 4)]\n",
    "svd_df = pd.DataFrame(u[:,0:3], columns=pcs)"
   ]
  },
  {
   "cell_type": "code",
   "execution_count": 57,
   "metadata": {},
   "outputs": [],
   "source": [
    "def corrFunction(pc):\n",
    "    print(pc)\n",
    "    for col in boston:\n",
    "        print(col + \"  \"+ str(svd_df[pc].corr(boston[col])))"
   ]
  },
  {
   "cell_type": "code",
   "execution_count": 58,
   "metadata": {},
   "outputs": [
    {
     "data": {
      "text/html": [
       "<div>\n",
       "<style scoped>\n",
       "    .dataframe tbody tr th:only-of-type {\n",
       "        vertical-align: middle;\n",
       "    }\n",
       "\n",
       "    .dataframe tbody tr th {\n",
       "        vertical-align: top;\n",
       "    }\n",
       "\n",
       "    .dataframe thead th {\n",
       "        text-align: right;\n",
       "    }\n",
       "</style>\n",
       "<table border=\"1\" class=\"dataframe\">\n",
       "  <thead>\n",
       "    <tr style=\"text-align: right;\">\n",
       "      <th></th>\n",
       "      <th>PC1</th>\n",
       "      <th>PC2</th>\n",
       "      <th>PC3</th>\n",
       "    </tr>\n",
       "  </thead>\n",
       "  <tbody>\n",
       "    <tr>\n",
       "      <th>0</th>\n",
       "      <td>-0.036269</td>\n",
       "      <td>0.017059</td>\n",
       "      <td>-0.012861</td>\n",
       "    </tr>\n",
       "    <tr>\n",
       "      <th>1</th>\n",
       "      <td>-0.023863</td>\n",
       "      <td>-0.005916</td>\n",
       "      <td>-0.036974</td>\n",
       "    </tr>\n",
       "    <tr>\n",
       "      <th>2</th>\n",
       "      <td>-0.041294</td>\n",
       "      <td>0.031638</td>\n",
       "      <td>-0.003446</td>\n",
       "    </tr>\n",
       "    <tr>\n",
       "      <th>3</th>\n",
       "      <td>-0.049308</td>\n",
       "      <td>0.006745</td>\n",
       "      <td>0.002317</td>\n",
       "    </tr>\n",
       "    <tr>\n",
       "      <th>4</th>\n",
       "      <td>-0.048181</td>\n",
       "      <td>0.014998</td>\n",
       "      <td>0.002451</td>\n",
       "    </tr>\n",
       "    <tr>\n",
       "      <th>...</th>\n",
       "      <td>...</td>\n",
       "      <td>...</td>\n",
       "      <td>...</td>\n",
       "    </tr>\n",
       "    <tr>\n",
       "      <th>501</th>\n",
       "      <td>-0.005262</td>\n",
       "      <td>0.004941</td>\n",
       "      <td>-0.039992</td>\n",
       "    </tr>\n",
       "    <tr>\n",
       "      <th>502</th>\n",
       "      <td>-0.000754</td>\n",
       "      <td>-0.004004</td>\n",
       "      <td>-0.053220</td>\n",
       "    </tr>\n",
       "    <tr>\n",
       "      <th>503</th>\n",
       "      <td>-0.006397</td>\n",
       "      <td>0.028492</td>\n",
       "      <td>-0.035732</td>\n",
       "    </tr>\n",
       "    <tr>\n",
       "      <th>504</th>\n",
       "      <td>-0.004593</td>\n",
       "      <td>0.018692</td>\n",
       "      <td>-0.039550</td>\n",
       "    </tr>\n",
       "    <tr>\n",
       "      <th>505</th>\n",
       "      <td>0.003392</td>\n",
       "      <td>-0.019313</td>\n",
       "      <td>-0.060327</td>\n",
       "    </tr>\n",
       "  </tbody>\n",
       "</table>\n",
       "<p>506 rows × 3 columns</p>\n",
       "</div>"
      ],
      "text/plain": [
       "          PC1       PC2       PC3\n",
       "0   -0.036269  0.017059 -0.012861\n",
       "1   -0.023863 -0.005916 -0.036974\n",
       "2   -0.041294  0.031638 -0.003446\n",
       "3   -0.049308  0.006745  0.002317\n",
       "4   -0.048181  0.014998  0.002451\n",
       "..        ...       ...       ...\n",
       "501 -0.005262  0.004941 -0.039992\n",
       "502 -0.000754 -0.004004 -0.053220\n",
       "503 -0.006397  0.028492 -0.035732\n",
       "504 -0.004593  0.018692 -0.039550\n",
       "505  0.003392 -0.019313 -0.060327\n",
       "\n",
       "[506 rows x 3 columns]"
      ]
     },
     "execution_count": 58,
     "metadata": {},
     "output_type": "execute_result"
    }
   ],
   "source": [
    "svd_df"
   ]
  },
  {
   "cell_type": "code",
   "execution_count": 59,
   "metadata": {},
   "outputs": [
    {
     "name": "stdout",
     "output_type": "stream",
     "text": [
      "PC1\n",
      "CRIM  0.61988795464206\n",
      "ZN  -0.6279486908308012\n",
      "INDUS  0.8490675258940809\n",
      "CHAS  -0.012861985542206118\n",
      "NOX  0.8320128220843397\n",
      "RM  -0.5189088229589807\n",
      "AGE  0.7598184730484974\n",
      "DIS  -0.762871379509314\n",
      "RAD  0.776285522305149\n",
      "TAX  0.8290428264648294\n",
      "PTRATIO  0.5313508216937093\n",
      "B  -0.5031018273136207\n",
      "LSTAT  0.7967157655078198\n",
      "TGT  -0.6821927278158157\n",
      "PC2\n",
      "CRIM  -0.08460353585689552\n",
      "ZN  -0.19008588110414903\n",
      "INDUS  0.1632084960665986\n",
      "CHAS  0.5274387457514247\n",
      "NOX  0.3265775687677394\n",
      "RM  0.5574114735177774\n",
      "AGE  0.33431808840568594\n",
      "DIS  -0.4612710553247959\n",
      "RAD  0.04000670387487663\n",
      "TAX  0.01136822339214794\n",
      "PTRATIO  -0.40408330905975165\n",
      "B  0.034010676762787545\n",
      "LSTAT  -0.25846743943582956\n",
      "TGT  0.5714346810500025\n",
      "PC3\n",
      "CRIM  0.4588524325784436\n",
      "ZN  0.4582348971864407\n",
      "INDUS  -0.07674912637898204\n",
      "CHAS  -0.14553258571751207\n",
      "NOX  -0.05397782205253828\n",
      "RM  0.41045435360791616\n",
      "AGE  -0.2332407617886816\n",
      "DIS  0.18242338430045402\n",
      "RAD  0.48606798504609705\n",
      "TAX  0.39863814001985076\n",
      "PTRATIO  0.0004635151151840148\n",
      "B  -0.419710693255923\n",
      "LSTAT  -0.18705935474868154\n",
      "TGT  0.18953132887266597\n"
     ]
    }
   ],
   "source": [
    "for pc in pcs:\n",
    "    corrFunction(pc)"
   ]
  },
  {
   "cell_type": "markdown",
   "metadata": {},
   "source": [
    "Wie erwartet sind die Korrelationen der ursprünglichen Variablen mit der ersten Hauptkomponente am stärksten. Die Korrelationen der nächsten Hauptkomponenten nehmen weiterhin ab."
   ]
  },
  {
   "cell_type": "markdown",
   "metadata": {},
   "source": [
    "_______________\n",
    "d. Darstellung der ersten beiden neuen Variablen als Scatterplot"
   ]
  },
  {
   "cell_type": "code",
   "execution_count": 60,
   "metadata": {},
   "outputs": [
    {
     "data": {
      "text/html": [
       "<div>\n",
       "<style scoped>\n",
       "    .dataframe tbody tr th:only-of-type {\n",
       "        vertical-align: middle;\n",
       "    }\n",
       "\n",
       "    .dataframe tbody tr th {\n",
       "        vertical-align: top;\n",
       "    }\n",
       "\n",
       "    .dataframe thead th {\n",
       "        text-align: right;\n",
       "    }\n",
       "</style>\n",
       "<table border=\"1\" class=\"dataframe\">\n",
       "  <thead>\n",
       "    <tr style=\"text-align: right;\">\n",
       "      <th></th>\n",
       "      <th>PC1</th>\n",
       "      <th>PC2</th>\n",
       "    </tr>\n",
       "  </thead>\n",
       "  <tbody>\n",
       "    <tr>\n",
       "      <th>0</th>\n",
       "      <td>-0.036269</td>\n",
       "      <td>0.017059</td>\n",
       "    </tr>\n",
       "    <tr>\n",
       "      <th>1</th>\n",
       "      <td>-0.023863</td>\n",
       "      <td>-0.005916</td>\n",
       "    </tr>\n",
       "    <tr>\n",
       "      <th>2</th>\n",
       "      <td>-0.041294</td>\n",
       "      <td>0.031638</td>\n",
       "    </tr>\n",
       "    <tr>\n",
       "      <th>3</th>\n",
       "      <td>-0.049308</td>\n",
       "      <td>0.006745</td>\n",
       "    </tr>\n",
       "    <tr>\n",
       "      <th>4</th>\n",
       "      <td>-0.048181</td>\n",
       "      <td>0.014998</td>\n",
       "    </tr>\n",
       "    <tr>\n",
       "      <th>...</th>\n",
       "      <td>...</td>\n",
       "      <td>...</td>\n",
       "    </tr>\n",
       "    <tr>\n",
       "      <th>501</th>\n",
       "      <td>-0.005262</td>\n",
       "      <td>0.004941</td>\n",
       "    </tr>\n",
       "    <tr>\n",
       "      <th>502</th>\n",
       "      <td>-0.000754</td>\n",
       "      <td>-0.004004</td>\n",
       "    </tr>\n",
       "    <tr>\n",
       "      <th>503</th>\n",
       "      <td>-0.006397</td>\n",
       "      <td>0.028492</td>\n",
       "    </tr>\n",
       "    <tr>\n",
       "      <th>504</th>\n",
       "      <td>-0.004593</td>\n",
       "      <td>0.018692</td>\n",
       "    </tr>\n",
       "    <tr>\n",
       "      <th>505</th>\n",
       "      <td>0.003392</td>\n",
       "      <td>-0.019313</td>\n",
       "    </tr>\n",
       "  </tbody>\n",
       "</table>\n",
       "<p>506 rows × 2 columns</p>\n",
       "</div>"
      ],
      "text/plain": [
       "          PC1       PC2\n",
       "0   -0.036269  0.017059\n",
       "1   -0.023863 -0.005916\n",
       "2   -0.041294  0.031638\n",
       "3   -0.049308  0.006745\n",
       "4   -0.048181  0.014998\n",
       "..        ...       ...\n",
       "501 -0.005262  0.004941\n",
       "502 -0.000754 -0.004004\n",
       "503 -0.006397  0.028492\n",
       "504 -0.004593  0.018692\n",
       "505  0.003392 -0.019313\n",
       "\n",
       "[506 rows x 2 columns]"
      ]
     },
     "execution_count": 60,
     "metadata": {},
     "output_type": "execute_result"
    }
   ],
   "source": [
    "pcs = ['PC' + str(i) for i in range(1, 3)]\n",
    "svd_df = pd.DataFrame(u[:,0:2], columns=pcs)\n",
    "svd_df"
   ]
  },
  {
   "cell_type": "code",
   "execution_count": 61,
   "metadata": {},
   "outputs": [],
   "source": [
    "tgtMean = boston[\"TGT\"].mean() # 0.75 Quantil: tgtMean = boston[[\"TGT\"]].quantile(.75)[0]\n",
    "\n",
    "tgtbiggerMean = boston[boston.TGT > tgtMean]\n",
    "tgtlowerMean = boston[boston.TGT <= tgtMean]"
   ]
  },
  {
   "cell_type": "code",
   "execution_count": 62,
   "metadata": {},
   "outputs": [],
   "source": [
    "dataBiggerMean = svd_df[svd_df.index.isin(tgtbiggerMean.index)]\n",
    "dataLowerMean = svd_df[svd_df.index.isin(tgtlowerMean.index)]"
   ]
  },
  {
   "cell_type": "code",
   "execution_count": 63,
   "metadata": {},
   "outputs": [
    {
     "data": {
      "text/plain": [
       "Text(0, 0.5, 'y')"
      ]
     },
     "execution_count": 63,
     "metadata": {},
     "output_type": "execute_result"
    },
    {
     "data": {
      "image/png": "[encoded data removed]",
      "text/plain": [
       "<Figure size 640x480 with 1 Axes>"
      ]
     },
     "metadata": {},
     "output_type": "display_data"
    }
   ],
   "source": [
    "plt.scatter(dataBiggerMean['PC1'], dataBiggerMean['PC2'], color='g', alpha=0.7)\n",
    "plt.scatter(dataLowerMean['PC1'], dataLowerMean['PC2'], color='b', alpha=0.7)\n",
    "plt.xlabel('x')\n",
    "plt.ylabel('y')"
   ]
  },
  {
   "cell_type": "markdown",
   "metadata": {},
   "source": [
    "Eignen sich die beiden neuen Variablen zur Vorhersage des Hauspreises?"
   ]
  },
  {
   "cell_type": "markdown",
   "metadata": {},
   "source": [
    "Ja, man sieht das sich zwei Cluster bilden. Die grünen Punkte sind die Daten wo der Hauspreis größer als der Durchschnitt ist, wohingegen die blauen Punkte unterhalb des Medians sind. Verschiebt man diese Grenze nach oben, zum Beispiel das 0.75 Quantil, so erkennt man dies auch entsprechend der Einfärbung im Plot."
   ]
  },
  {
   "cell_type": "markdown",
   "metadata": {},
   "source": [
    "### 2. Eigengesicher"
   ]
  },
  {
   "cell_type": "code",
   "execution_count": 64,
   "metadata": {},
   "outputs": [],
   "source": [
    "os.chdir('/home/benny/MSI/ML/Ubungen/lfw')"
   ]
  },
  {
   "cell_type": "code",
   "execution_count": 65,
   "metadata": {},
   "outputs": [
    {
     "data": {
      "text/plain": [
       "'/home/benny/MSI/ML/Ubungen/lfw'"
      ]
     },
     "execution_count": 65,
     "metadata": {},
     "output_type": "execute_result"
    }
   ],
   "source": [
    "os.getcwd()"
   ]
  },
  {
   "cell_type": "code",
   "execution_count": 66,
   "metadata": {},
   "outputs": [],
   "source": [
    "def processImageAndStackAsVector(filePath, fileName):\n",
    "    image = Image.open(filePath).convert('L')\n",
    "    crop_rectangle = (50, 50, 200, 200)\n",
    "    cropped_im = image.crop(crop_rectangle)\n",
    "    img_resized = cropped_im.resize((32, 32))\n",
    "    img_arr=np.array(img_resized)\n",
    "    #showImage(img_arr)\n",
    "    flat_arr = img_arr.ravel()\n",
    "    flat_arr = np.append(flat_arr, fileName)\n",
    "    vector = np.matrix(flat_arr)\n",
    "    return pd.DataFrame(vector)"
   ]
  },
  {
   "cell_type": "code",
   "execution_count": 67,
   "metadata": {},
   "outputs": [],
   "source": [
    "def showImage(ursFormat):\n",
    "    plt.figure(figsize=(5,2))\n",
    "    plt.imshow(ursFormat)\n",
    "    plt.show()"
   ]
  },
  {
   "cell_type": "markdown",
   "metadata": {},
   "source": [
    "Bildpfade mit Namen als Array aufbereiten"
   ]
  },
  {
   "cell_type": "code",
   "execution_count": 68,
   "metadata": {},
   "outputs": [],
   "source": [
    "foundFiles = []\n",
    "filesMa = []\n",
    "for root, dirs, files in os.walk(\".\"):\n",
    "    for name in dirs:\n",
    "        filesInDir = os.listdir(name)\n",
    "        if(len(filesInDir) >= 70):\n",
    "            filesDirList = []\n",
    "            filesDirList.append(name)\n",
    "            for files in filesInDir:\n",
    "                filesDirList.append(os.path.join(root, name, files))\n",
    "            filesMa.append(filesDirList)      "
   ]
  },
  {
   "cell_type": "markdown",
   "metadata": {},
   "source": [
    "Ergebnismatrix mit allen Bildern und Personennamen erstellen"
   ]
  },
  {
   "cell_type": "code",
   "execution_count": 69,
   "metadata": {
    "scrolled": true
   },
   "outputs": [
    {
     "data": {
      "text/html": [
       "<div>\n",
       "<style scoped>\n",
       "    .dataframe tbody tr th:only-of-type {\n",
       "        vertical-align: middle;\n",
       "    }\n",
       "\n",
       "    .dataframe tbody tr th {\n",
       "        vertical-align: top;\n",
       "    }\n",
       "\n",
       "    .dataframe thead th {\n",
       "        text-align: right;\n",
       "    }\n",
       "</style>\n",
       "<table border=\"1\" class=\"dataframe\">\n",
       "  <thead>\n",
       "    <tr style=\"text-align: right;\">\n",
       "      <th></th>\n",
       "      <th>0</th>\n",
       "      <th>1</th>\n",
       "      <th>2</th>\n",
       "      <th>3</th>\n",
       "      <th>4</th>\n",
       "      <th>5</th>\n",
       "      <th>6</th>\n",
       "      <th>7</th>\n",
       "      <th>8</th>\n",
       "      <th>9</th>\n",
       "      <th>...</th>\n",
       "      <th>1015</th>\n",
       "      <th>1016</th>\n",
       "      <th>1017</th>\n",
       "      <th>1018</th>\n",
       "      <th>1019</th>\n",
       "      <th>1020</th>\n",
       "      <th>1021</th>\n",
       "      <th>1022</th>\n",
       "      <th>1023</th>\n",
       "      <th>1024</th>\n",
       "    </tr>\n",
       "  </thead>\n",
       "  <tbody>\n",
       "    <tr>\n",
       "      <th>0</th>\n",
       "      <td>103</td>\n",
       "      <td>103</td>\n",
       "      <td>103</td>\n",
       "      <td>103</td>\n",
       "      <td>101</td>\n",
       "      <td>102</td>\n",
       "      <td>104</td>\n",
       "      <td>103</td>\n",
       "      <td>102</td>\n",
       "      <td>122</td>\n",
       "      <td>...</td>\n",
       "      <td>247</td>\n",
       "      <td>255</td>\n",
       "      <td>248</td>\n",
       "      <td>227</td>\n",
       "      <td>240</td>\n",
       "      <td>216</td>\n",
       "      <td>44</td>\n",
       "      <td>13</td>\n",
       "      <td>15</td>\n",
       "      <td>Ariel_Sharon</td>\n",
       "    </tr>\n",
       "    <tr>\n",
       "      <th>1</th>\n",
       "      <td>196</td>\n",
       "      <td>196</td>\n",
       "      <td>201</td>\n",
       "      <td>201</td>\n",
       "      <td>189</td>\n",
       "      <td>173</td>\n",
       "      <td>165</td>\n",
       "      <td>165</td>\n",
       "      <td>153</td>\n",
       "      <td>146</td>\n",
       "      <td>...</td>\n",
       "      <td>121</td>\n",
       "      <td>30</td>\n",
       "      <td>24</td>\n",
       "      <td>33</td>\n",
       "      <td>36</td>\n",
       "      <td>32</td>\n",
       "      <td>30</td>\n",
       "      <td>31</td>\n",
       "      <td>29</td>\n",
       "      <td>Ariel_Sharon</td>\n",
       "    </tr>\n",
       "    <tr>\n",
       "      <th>2</th>\n",
       "      <td>42</td>\n",
       "      <td>94</td>\n",
       "      <td>108</td>\n",
       "      <td>74</td>\n",
       "      <td>42</td>\n",
       "      <td>107</td>\n",
       "      <td>234</td>\n",
       "      <td>218</td>\n",
       "      <td>205</td>\n",
       "      <td>204</td>\n",
       "      <td>...</td>\n",
       "      <td>61</td>\n",
       "      <td>118</td>\n",
       "      <td>141</td>\n",
       "      <td>154</td>\n",
       "      <td>100</td>\n",
       "      <td>2</td>\n",
       "      <td>5</td>\n",
       "      <td>5</td>\n",
       "      <td>5</td>\n",
       "      <td>Ariel_Sharon</td>\n",
       "    </tr>\n",
       "    <tr>\n",
       "      <th>3</th>\n",
       "      <td>164</td>\n",
       "      <td>211</td>\n",
       "      <td>204</td>\n",
       "      <td>143</td>\n",
       "      <td>155</td>\n",
       "      <td>166</td>\n",
       "      <td>172</td>\n",
       "      <td>175</td>\n",
       "      <td>178</td>\n",
       "      <td>180</td>\n",
       "      <td>...</td>\n",
       "      <td>184</td>\n",
       "      <td>193</td>\n",
       "      <td>198</td>\n",
       "      <td>200</td>\n",
       "      <td>84</td>\n",
       "      <td>39</td>\n",
       "      <td>45</td>\n",
       "      <td>42</td>\n",
       "      <td>45</td>\n",
       "      <td>Ariel_Sharon</td>\n",
       "    </tr>\n",
       "    <tr>\n",
       "      <th>4</th>\n",
       "      <td>36</td>\n",
       "      <td>36</td>\n",
       "      <td>36</td>\n",
       "      <td>37</td>\n",
       "      <td>38</td>\n",
       "      <td>38</td>\n",
       "      <td>46</td>\n",
       "      <td>103</td>\n",
       "      <td>125</td>\n",
       "      <td>107</td>\n",
       "      <td>...</td>\n",
       "      <td>117</td>\n",
       "      <td>97</td>\n",
       "      <td>109</td>\n",
       "      <td>140</td>\n",
       "      <td>171</td>\n",
       "      <td>163</td>\n",
       "      <td>139</td>\n",
       "      <td>143</td>\n",
       "      <td>163</td>\n",
       "      <td>Ariel_Sharon</td>\n",
       "    </tr>\n",
       "    <tr>\n",
       "      <th>...</th>\n",
       "      <td>...</td>\n",
       "      <td>...</td>\n",
       "      <td>...</td>\n",
       "      <td>...</td>\n",
       "      <td>...</td>\n",
       "      <td>...</td>\n",
       "      <td>...</td>\n",
       "      <td>...</td>\n",
       "      <td>...</td>\n",
       "      <td>...</td>\n",
       "      <td>...</td>\n",
       "      <td>...</td>\n",
       "      <td>...</td>\n",
       "      <td>...</td>\n",
       "      <td>...</td>\n",
       "      <td>...</td>\n",
       "      <td>...</td>\n",
       "      <td>...</td>\n",
       "      <td>...</td>\n",
       "      <td>...</td>\n",
       "      <td>...</td>\n",
       "    </tr>\n",
       "    <tr>\n",
       "      <th>1276</th>\n",
       "      <td>10</td>\n",
       "      <td>17</td>\n",
       "      <td>32</td>\n",
       "      <td>50</td>\n",
       "      <td>57</td>\n",
       "      <td>76</td>\n",
       "      <td>92</td>\n",
       "      <td>80</td>\n",
       "      <td>81</td>\n",
       "      <td>91</td>\n",
       "      <td>...</td>\n",
       "      <td>11</td>\n",
       "      <td>10</td>\n",
       "      <td>11</td>\n",
       "      <td>13</td>\n",
       "      <td>12</td>\n",
       "      <td>11</td>\n",
       "      <td>11</td>\n",
       "      <td>9</td>\n",
       "      <td>6</td>\n",
       "      <td>Donald_Rumsfeld</td>\n",
       "    </tr>\n",
       "    <tr>\n",
       "      <th>1277</th>\n",
       "      <td>26</td>\n",
       "      <td>27</td>\n",
       "      <td>174</td>\n",
       "      <td>217</td>\n",
       "      <td>104</td>\n",
       "      <td>99</td>\n",
       "      <td>73</td>\n",
       "      <td>60</td>\n",
       "      <td>108</td>\n",
       "      <td>141</td>\n",
       "      <td>...</td>\n",
       "      <td>194</td>\n",
       "      <td>215</td>\n",
       "      <td>223</td>\n",
       "      <td>233</td>\n",
       "      <td>231</td>\n",
       "      <td>60</td>\n",
       "      <td>2</td>\n",
       "      <td>15</td>\n",
       "      <td>35</td>\n",
       "      <td>Donald_Rumsfeld</td>\n",
       "    </tr>\n",
       "    <tr>\n",
       "      <th>1278</th>\n",
       "      <td>73</td>\n",
       "      <td>83</td>\n",
       "      <td>93</td>\n",
       "      <td>60</td>\n",
       "      <td>33</td>\n",
       "      <td>63</td>\n",
       "      <td>95</td>\n",
       "      <td>89</td>\n",
       "      <td>91</td>\n",
       "      <td>94</td>\n",
       "      <td>...</td>\n",
       "      <td>255</td>\n",
       "      <td>160</td>\n",
       "      <td>20</td>\n",
       "      <td>27</td>\n",
       "      <td>23</td>\n",
       "      <td>22</td>\n",
       "      <td>24</td>\n",
       "      <td>23</td>\n",
       "      <td>23</td>\n",
       "      <td>Donald_Rumsfeld</td>\n",
       "    </tr>\n",
       "    <tr>\n",
       "      <th>1279</th>\n",
       "      <td>142</td>\n",
       "      <td>123</td>\n",
       "      <td>81</td>\n",
       "      <td>51</td>\n",
       "      <td>49</td>\n",
       "      <td>60</td>\n",
       "      <td>78</td>\n",
       "      <td>74</td>\n",
       "      <td>45</td>\n",
       "      <td>85</td>\n",
       "      <td>...</td>\n",
       "      <td>35</td>\n",
       "      <td>20</td>\n",
       "      <td>11</td>\n",
       "      <td>9</td>\n",
       "      <td>10</td>\n",
       "      <td>13</td>\n",
       "      <td>49</td>\n",
       "      <td>86</td>\n",
       "      <td>85</td>\n",
       "      <td>Donald_Rumsfeld</td>\n",
       "    </tr>\n",
       "    <tr>\n",
       "      <th>1280</th>\n",
       "      <td>196</td>\n",
       "      <td>186</td>\n",
       "      <td>169</td>\n",
       "      <td>159</td>\n",
       "      <td>64</td>\n",
       "      <td>88</td>\n",
       "      <td>110</td>\n",
       "      <td>72</td>\n",
       "      <td>79</td>\n",
       "      <td>93</td>\n",
       "      <td>...</td>\n",
       "      <td>142</td>\n",
       "      <td>145</td>\n",
       "      <td>122</td>\n",
       "      <td>89</td>\n",
       "      <td>74</td>\n",
       "      <td>75</td>\n",
       "      <td>81</td>\n",
       "      <td>86</td>\n",
       "      <td>79</td>\n",
       "      <td>Donald_Rumsfeld</td>\n",
       "    </tr>\n",
       "  </tbody>\n",
       "</table>\n",
       "<p>1281 rows × 1025 columns</p>\n",
       "</div>"
      ],
      "text/plain": [
       "     0    1    2    3    4    5    6    7    8    9     ... 1015 1016 1017  \\\n",
       "0     103  103  103  103  101  102  104  103  102  122  ...  247  255  248   \n",
       "1     196  196  201  201  189  173  165  165  153  146  ...  121   30   24   \n",
       "2      42   94  108   74   42  107  234  218  205  204  ...   61  118  141   \n",
       "3     164  211  204  143  155  166  172  175  178  180  ...  184  193  198   \n",
       "4      36   36   36   37   38   38   46  103  125  107  ...  117   97  109   \n",
       "...   ...  ...  ...  ...  ...  ...  ...  ...  ...  ...  ...  ...  ...  ...   \n",
       "1276   10   17   32   50   57   76   92   80   81   91  ...   11   10   11   \n",
       "1277   26   27  174  217  104   99   73   60  108  141  ...  194  215  223   \n",
       "1278   73   83   93   60   33   63   95   89   91   94  ...  255  160   20   \n",
       "1279  142  123   81   51   49   60   78   74   45   85  ...   35   20   11   \n",
       "1280  196  186  169  159   64   88  110   72   79   93  ...  142  145  122   \n",
       "\n",
       "     1018 1019 1020 1021 1022 1023             1024  \n",
       "0     227  240  216   44   13   15     Ariel_Sharon  \n",
       "1      33   36   32   30   31   29     Ariel_Sharon  \n",
       "2     154  100    2    5    5    5     Ariel_Sharon  \n",
       "3     200   84   39   45   42   45     Ariel_Sharon  \n",
       "4     140  171  163  139  143  163     Ariel_Sharon  \n",
       "...   ...  ...  ...  ...  ...  ...              ...  \n",
       "1276   13   12   11   11    9    6  Donald_Rumsfeld  \n",
       "1277  233  231   60    2   15   35  Donald_Rumsfeld  \n",
       "1278   27   23   22   24   23   23  Donald_Rumsfeld  \n",
       "1279    9   10   13   49   86   85  Donald_Rumsfeld  \n",
       "1280   89   74   75   81   86   79  Donald_Rumsfeld  \n",
       "\n",
       "[1281 rows x 1025 columns]"
      ]
     },
     "execution_count": 69,
     "metadata": {},
     "output_type": "execute_result"
    }
   ],
   "source": [
    "trainingMatrix = pd.DataFrame()\n",
    "trainingMatrix = trainingMatrix.astype(np.float) \n",
    "for fileArr in filesMa:\n",
    "    name = fileArr[0]\n",
    "    for image in fileArr[2:]:\n",
    "        trainingMatrix = trainingMatrix.append(processImageAndStackAsVector(image, name), ignore_index=True)\n",
    "trainingMatrix"
   ]
  },
  {
   "cell_type": "markdown",
   "metadata": {},
   "source": [
    "Daten zum Datentyp int konvertieren"
   ]
  },
  {
   "cell_type": "code",
   "execution_count": 70,
   "metadata": {},
   "outputs": [
    {
     "data": {
      "text/plain": [
       "0        int64\n",
       "1        int64\n",
       "2        int64\n",
       "3        int64\n",
       "4        int64\n",
       "         ...  \n",
       "1020     int64\n",
       "1021     int64\n",
       "1022     int64\n",
       "1023     int64\n",
       "1024    object\n",
       "Length: 1025, dtype: object"
      ]
     },
     "execution_count": 70,
     "metadata": {},
     "output_type": "execute_result"
    }
   ],
   "source": [
    "new_df = trainingMatrix.drop(1024,1)\n",
    "new_df = new_df.apply(np.int64)\n",
    "trainingMatrix = pd.concat([new_df, trainingMatrix[1024]], axis=1)\n",
    "trainingMatrix.dtypes"
   ]
  },
  {
   "cell_type": "markdown",
   "metadata": {},
   "source": [
    "**Testbilder:**"
   ]
  },
  {
   "cell_type": "code",
   "execution_count": 71,
   "metadata": {},
   "outputs": [
    {
     "data": {
      "text/html": [
       "<div>\n",
       "<style scoped>\n",
       "    .dataframe tbody tr th:only-of-type {\n",
       "        vertical-align: middle;\n",
       "    }\n",
       "\n",
       "    .dataframe tbody tr th {\n",
       "        vertical-align: top;\n",
       "    }\n",
       "\n",
       "    .dataframe thead th {\n",
       "        text-align: right;\n",
       "    }\n",
       "</style>\n",
       "<table border=\"1\" class=\"dataframe\">\n",
       "  <thead>\n",
       "    <tr style=\"text-align: right;\">\n",
       "      <th></th>\n",
       "      <th>0</th>\n",
       "      <th>1</th>\n",
       "      <th>2</th>\n",
       "      <th>3</th>\n",
       "      <th>4</th>\n",
       "      <th>5</th>\n",
       "      <th>6</th>\n",
       "      <th>7</th>\n",
       "      <th>8</th>\n",
       "      <th>9</th>\n",
       "      <th>...</th>\n",
       "      <th>1015</th>\n",
       "      <th>1016</th>\n",
       "      <th>1017</th>\n",
       "      <th>1018</th>\n",
       "      <th>1019</th>\n",
       "      <th>1020</th>\n",
       "      <th>1021</th>\n",
       "      <th>1022</th>\n",
       "      <th>1023</th>\n",
       "      <th>1024</th>\n",
       "    </tr>\n",
       "  </thead>\n",
       "  <tbody>\n",
       "    <tr>\n",
       "      <th>0</th>\n",
       "      <td>16</td>\n",
       "      <td>15</td>\n",
       "      <td>11</td>\n",
       "      <td>83</td>\n",
       "      <td>204</td>\n",
       "      <td>191</td>\n",
       "      <td>168</td>\n",
       "      <td>172</td>\n",
       "      <td>176</td>\n",
       "      <td>183</td>\n",
       "      <td>...</td>\n",
       "      <td>184</td>\n",
       "      <td>220</td>\n",
       "      <td>242</td>\n",
       "      <td>251</td>\n",
       "      <td>255</td>\n",
       "      <td>215</td>\n",
       "      <td>57</td>\n",
       "      <td>24</td>\n",
       "      <td>31</td>\n",
       "      <td>Ariel_Sharon</td>\n",
       "    </tr>\n",
       "    <tr>\n",
       "      <th>1</th>\n",
       "      <td>128</td>\n",
       "      <td>128</td>\n",
       "      <td>128</td>\n",
       "      <td>129</td>\n",
       "      <td>129</td>\n",
       "      <td>132</td>\n",
       "      <td>132</td>\n",
       "      <td>132</td>\n",
       "      <td>130</td>\n",
       "      <td>132</td>\n",
       "      <td>...</td>\n",
       "      <td>225</td>\n",
       "      <td>221</td>\n",
       "      <td>221</td>\n",
       "      <td>113</td>\n",
       "      <td>12</td>\n",
       "      <td>18</td>\n",
       "      <td>20</td>\n",
       "      <td>23</td>\n",
       "      <td>25</td>\n",
       "      <td>Colin_Powell</td>\n",
       "    </tr>\n",
       "    <tr>\n",
       "      <th>2</th>\n",
       "      <td>79</td>\n",
       "      <td>151</td>\n",
       "      <td>236</td>\n",
       "      <td>250</td>\n",
       "      <td>253</td>\n",
       "      <td>254</td>\n",
       "      <td>252</td>\n",
       "      <td>253</td>\n",
       "      <td>225</td>\n",
       "      <td>112</td>\n",
       "      <td>...</td>\n",
       "      <td>208</td>\n",
       "      <td>229</td>\n",
       "      <td>229</td>\n",
       "      <td>147</td>\n",
       "      <td>35</td>\n",
       "      <td>37</td>\n",
       "      <td>39</td>\n",
       "      <td>44</td>\n",
       "      <td>46</td>\n",
       "      <td>Gerhard_Schroeder</td>\n",
       "    </tr>\n",
       "    <tr>\n",
       "      <th>3</th>\n",
       "      <td>247</td>\n",
       "      <td>246</td>\n",
       "      <td>245</td>\n",
       "      <td>244</td>\n",
       "      <td>212</td>\n",
       "      <td>194</td>\n",
       "      <td>191</td>\n",
       "      <td>184</td>\n",
       "      <td>189</td>\n",
       "      <td>187</td>\n",
       "      <td>...</td>\n",
       "      <td>146</td>\n",
       "      <td>175</td>\n",
       "      <td>178</td>\n",
       "      <td>170</td>\n",
       "      <td>157</td>\n",
       "      <td>146</td>\n",
       "      <td>116</td>\n",
       "      <td>126</td>\n",
       "      <td>163</td>\n",
       "      <td>Tony_Blair</td>\n",
       "    </tr>\n",
       "    <tr>\n",
       "      <th>4</th>\n",
       "      <td>54</td>\n",
       "      <td>53</td>\n",
       "      <td>64</td>\n",
       "      <td>59</td>\n",
       "      <td>51</td>\n",
       "      <td>50</td>\n",
       "      <td>125</td>\n",
       "      <td>180</td>\n",
       "      <td>157</td>\n",
       "      <td>138</td>\n",
       "      <td>...</td>\n",
       "      <td>159</td>\n",
       "      <td>43</td>\n",
       "      <td>46</td>\n",
       "      <td>43</td>\n",
       "      <td>40</td>\n",
       "      <td>38</td>\n",
       "      <td>32</td>\n",
       "      <td>31</td>\n",
       "      <td>34</td>\n",
       "      <td>George_W_Bush</td>\n",
       "    </tr>\n",
       "    <tr>\n",
       "      <th>5</th>\n",
       "      <td>5</td>\n",
       "      <td>3</td>\n",
       "      <td>5</td>\n",
       "      <td>4</td>\n",
       "      <td>4</td>\n",
       "      <td>5</td>\n",
       "      <td>6</td>\n",
       "      <td>15</td>\n",
       "      <td>27</td>\n",
       "      <td>32</td>\n",
       "      <td>...</td>\n",
       "      <td>225</td>\n",
       "      <td>225</td>\n",
       "      <td>225</td>\n",
       "      <td>225</td>\n",
       "      <td>225</td>\n",
       "      <td>225</td>\n",
       "      <td>225</td>\n",
       "      <td>225</td>\n",
       "      <td>225</td>\n",
       "      <td>Hugo_Chavez</td>\n",
       "    </tr>\n",
       "    <tr>\n",
       "      <th>6</th>\n",
       "      <td>199</td>\n",
       "      <td>176</td>\n",
       "      <td>115</td>\n",
       "      <td>38</td>\n",
       "      <td>40</td>\n",
       "      <td>70</td>\n",
       "      <td>71</td>\n",
       "      <td>72</td>\n",
       "      <td>74</td>\n",
       "      <td>84</td>\n",
       "      <td>...</td>\n",
       "      <td>34</td>\n",
       "      <td>38</td>\n",
       "      <td>37</td>\n",
       "      <td>37</td>\n",
       "      <td>36</td>\n",
       "      <td>37</td>\n",
       "      <td>30</td>\n",
       "      <td>12</td>\n",
       "      <td>23</td>\n",
       "      <td>Donald_Rumsfeld</td>\n",
       "    </tr>\n",
       "  </tbody>\n",
       "</table>\n",
       "<p>7 rows × 1025 columns</p>\n",
       "</div>"
      ],
      "text/plain": [
       "  0    1    2    3    4    5    6    7    8    9     ... 1015 1016 1017 1018  \\\n",
       "0   16   15   11   83  204  191  168  172  176  183  ...  184  220  242  251   \n",
       "1  128  128  128  129  129  132  132  132  130  132  ...  225  221  221  113   \n",
       "2   79  151  236  250  253  254  252  253  225  112  ...  208  229  229  147   \n",
       "3  247  246  245  244  212  194  191  184  189  187  ...  146  175  178  170   \n",
       "4   54   53   64   59   51   50  125  180  157  138  ...  159   43   46   43   \n",
       "5    5    3    5    4    4    5    6   15   27   32  ...  225  225  225  225   \n",
       "6  199  176  115   38   40   70   71   72   74   84  ...   34   38   37   37   \n",
       "\n",
       "  1019 1020 1021 1022 1023               1024  \n",
       "0  255  215   57   24   31       Ariel_Sharon  \n",
       "1   12   18   20   23   25       Colin_Powell  \n",
       "2   35   37   39   44   46  Gerhard_Schroeder  \n",
       "3  157  146  116  126  163         Tony_Blair  \n",
       "4   40   38   32   31   34      George_W_Bush  \n",
       "5  225  225  225  225  225        Hugo_Chavez  \n",
       "6   36   37   30   12   23    Donald_Rumsfeld  \n",
       "\n",
       "[7 rows x 1025 columns]"
      ]
     },
     "execution_count": 71,
     "metadata": {},
     "output_type": "execute_result"
    }
   ],
   "source": [
    "testMatrix = pd.DataFrame()\n",
    "for fileArr in filesMa:\n",
    "    name = fileArr[0]\n",
    "    testMatrix = testMatrix.append(processImageAndStackAsVector(fileArr[1], name), ignore_index=True)\n",
    "testMatrix"
   ]
  },
  {
   "cell_type": "code",
   "execution_count": 72,
   "metadata": {},
   "outputs": [
    {
     "data": {
      "text/plain": [
       "0        int64\n",
       "1        int64\n",
       "2        int64\n",
       "3        int64\n",
       "4        int64\n",
       "         ...  \n",
       "1020     int64\n",
       "1021     int64\n",
       "1022     int64\n",
       "1023     int64\n",
       "1024    object\n",
       "Length: 1025, dtype: object"
      ]
     },
     "execution_count": 72,
     "metadata": {},
     "output_type": "execute_result"
    }
   ],
   "source": [
    "new_df = testMatrix.drop(1024,1)\n",
    "new_df = new_df.apply(np.int64)\n",
    "testMatrix = pd.concat([new_df, testMatrix[1024]], axis=1)\n",
    "testMatrix.dtypes"
   ]
  },
  {
   "cell_type": "markdown",
   "metadata": {},
   "source": [
    "______________\n",
    "c. Hauptkomponentenanalyse"
   ]
  },
  {
   "cell_type": "code",
   "execution_count": 73,
   "metadata": {},
   "outputs": [],
   "source": [
    "dataTraining = trainingMatrix.loc[:,:1023] \n",
    "dataTraining_scaled = (dataTraining - dataTraining.mean())/dataTraining.std()  # std ?\n",
    "u, s, v, resTabelle = hauptkomponentenanalyse(dataTraining_scaled.T)"
   ]
  },
  {
   "cell_type": "code",
   "execution_count": 74,
   "metadata": {},
   "outputs": [
    {
     "data": {
      "text/html": [
       "<div>\n",
       "<style scoped>\n",
       "    .dataframe tbody tr th:only-of-type {\n",
       "        vertical-align: middle;\n",
       "    }\n",
       "\n",
       "    .dataframe tbody tr th {\n",
       "        vertical-align: top;\n",
       "    }\n",
       "\n",
       "    .dataframe thead th {\n",
       "        text-align: right;\n",
       "    }\n",
       "</style>\n",
       "<table border=\"1\" class=\"dataframe\">\n",
       "  <thead>\n",
       "    <tr style=\"text-align: right;\">\n",
       "      <th></th>\n",
       "      <th>Eigenwerte</th>\n",
       "      <th>Anteil</th>\n",
       "      <th>SumAnteil</th>\n",
       "    </tr>\n",
       "  </thead>\n",
       "  <tbody>\n",
       "    <tr>\n",
       "      <th>PC1</th>\n",
       "      <td>211.173</td>\n",
       "      <td>0.165</td>\n",
       "      <td>0.165</td>\n",
       "    </tr>\n",
       "    <tr>\n",
       "      <th>PC2</th>\n",
       "      <td>166.790</td>\n",
       "      <td>0.130</td>\n",
       "      <td>0.295</td>\n",
       "    </tr>\n",
       "    <tr>\n",
       "      <th>PC3</th>\n",
       "      <td>140.887</td>\n",
       "      <td>0.110</td>\n",
       "      <td>0.405</td>\n",
       "    </tr>\n",
       "    <tr>\n",
       "      <th>PC4</th>\n",
       "      <td>81.209</td>\n",
       "      <td>0.063</td>\n",
       "      <td>0.468</td>\n",
       "    </tr>\n",
       "    <tr>\n",
       "      <th>PC5</th>\n",
       "      <td>62.532</td>\n",
       "      <td>0.049</td>\n",
       "      <td>0.517</td>\n",
       "    </tr>\n",
       "    <tr>\n",
       "      <th>...</th>\n",
       "      <td>...</td>\n",
       "      <td>...</td>\n",
       "      <td>...</td>\n",
       "    </tr>\n",
       "    <tr>\n",
       "      <th>PC1020</th>\n",
       "      <td>0.000</td>\n",
       "      <td>0.000</td>\n",
       "      <td>0.958</td>\n",
       "    </tr>\n",
       "    <tr>\n",
       "      <th>PC1021</th>\n",
       "      <td>0.000</td>\n",
       "      <td>0.000</td>\n",
       "      <td>0.958</td>\n",
       "    </tr>\n",
       "    <tr>\n",
       "      <th>PC1022</th>\n",
       "      <td>0.000</td>\n",
       "      <td>0.000</td>\n",
       "      <td>0.958</td>\n",
       "    </tr>\n",
       "    <tr>\n",
       "      <th>PC1023</th>\n",
       "      <td>0.000</td>\n",
       "      <td>0.000</td>\n",
       "      <td>0.958</td>\n",
       "    </tr>\n",
       "    <tr>\n",
       "      <th>PC1024</th>\n",
       "      <td>0.000</td>\n",
       "      <td>0.000</td>\n",
       "      <td>0.958</td>\n",
       "    </tr>\n",
       "  </tbody>\n",
       "</table>\n",
       "<p>1024 rows × 3 columns</p>\n",
       "</div>"
      ],
      "text/plain": [
       "        Eigenwerte  Anteil  SumAnteil\n",
       "PC1        211.173   0.165      0.165\n",
       "PC2        166.790   0.130      0.295\n",
       "PC3        140.887   0.110      0.405\n",
       "PC4         81.209   0.063      0.468\n",
       "PC5         62.532   0.049      0.517\n",
       "...            ...     ...        ...\n",
       "PC1020       0.000   0.000      0.958\n",
       "PC1021       0.000   0.000      0.958\n",
       "PC1022       0.000   0.000      0.958\n",
       "PC1023       0.000   0.000      0.958\n",
       "PC1024       0.000   0.000      0.958\n",
       "\n",
       "[1024 rows x 3 columns]"
      ]
     },
     "execution_count": 74,
     "metadata": {},
     "output_type": "execute_result"
    }
   ],
   "source": [
    "resTabelle"
   ]
  },
  {
   "cell_type": "markdown",
   "metadata": {},
   "source": [
    "Darstellung der 150 ersten Eigenwerten"
   ]
  },
  {
   "cell_type": "code",
   "execution_count": 24,
   "metadata": {},
   "outputs": [
    {
     "data": {
      "image/png": "[encoded data removed]",
      "text/plain": [
       "<Figure size 640x480 with 1 Axes>"
      ]
     },
     "metadata": {},
     "output_type": "display_data"
    }
   ],
   "source": [
    "fig, ax = plt.subplots()\n",
    "ax.plot(resTabelle['Eigenwerte'][:150], 'o', ms=2)\n",
    "plt.xticks(rotation=60)\n",
    "ax.xaxis.set_major_locator(plt.MultipleLocator(9))\n",
    "ax.xaxis.set_minor_locator(plt.MultipleLocator(9))"
   ]
  },
  {
   "cell_type": "code",
   "execution_count": 25,
   "metadata": {},
   "outputs": [
    {
     "data": {
      "text/plain": [
       "Text(42.722222222222214, 0.5, 'Anteil Varianz')"
      ]
     },
     "execution_count": 25,
     "metadata": {},
     "output_type": "execute_result"
    },
    {
     "data": {
      "image/png": "[encoded data removed]",
      "text/plain": [
       "<Figure size 640x480 with 1 Axes>"
      ]
     },
     "metadata": {},
     "output_type": "display_data"
    }
   ],
   "source": [
    "fig = plt.figure();\n",
    "pcas = ['PC' + str(i) for i in range(1, 151)]\n",
    "plot_ = sns.barplot(x=pcas, y=resTabelle['SumAnteil'][:150], color=\"lightgreen\")\n",
    "\n",
    "fig.canvas.draw()\n",
    "new_ticks = [i.get_text() for i in plot_.get_xticklabels()]\n",
    "plt.xticks(range(0, len(new_ticks), 9), new_ticks[::9])\n",
    "plt.xticks(rotation=60)\n",
    "\n",
    "plt.ylabel('Anteil Varianz', fontsize=10)\n"
   ]
  },
  {
   "cell_type": "code",
   "execution_count": 26,
   "metadata": {},
   "outputs": [
    {
     "data": {
      "text/html": [
       "<div>\n",
       "<style scoped>\n",
       "    .dataframe tbody tr th:only-of-type {\n",
       "        vertical-align: middle;\n",
       "    }\n",
       "\n",
       "    .dataframe tbody tr th {\n",
       "        vertical-align: top;\n",
       "    }\n",
       "\n",
       "    .dataframe thead th {\n",
       "        text-align: right;\n",
       "    }\n",
       "</style>\n",
       "<table border=\"1\" class=\"dataframe\">\n",
       "  <thead>\n",
       "    <tr style=\"text-align: right;\">\n",
       "      <th></th>\n",
       "      <th>0</th>\n",
       "      <th>1</th>\n",
       "      <th>2</th>\n",
       "      <th>3</th>\n",
       "      <th>4</th>\n",
       "      <th>5</th>\n",
       "      <th>6</th>\n",
       "      <th>7</th>\n",
       "      <th>8</th>\n",
       "      <th>9</th>\n",
       "      <th>10</th>\n",
       "      <th>11</th>\n",
       "    </tr>\n",
       "  </thead>\n",
       "  <tbody>\n",
       "    <tr>\n",
       "      <th>0</th>\n",
       "      <td>0.051083</td>\n",
       "      <td>-0.018213</td>\n",
       "      <td>0.005234</td>\n",
       "      <td>-0.002736</td>\n",
       "      <td>0.018232</td>\n",
       "      <td>-0.038442</td>\n",
       "      <td>0.025289</td>\n",
       "      <td>0.033210</td>\n",
       "      <td>-0.014176</td>\n",
       "      <td>0.011932</td>\n",
       "      <td>-0.035202</td>\n",
       "      <td>0.032645</td>\n",
       "    </tr>\n",
       "    <tr>\n",
       "      <th>1</th>\n",
       "      <td>0.050620</td>\n",
       "      <td>-0.019055</td>\n",
       "      <td>0.006672</td>\n",
       "      <td>-0.002341</td>\n",
       "      <td>0.021817</td>\n",
       "      <td>-0.041710</td>\n",
       "      <td>0.027154</td>\n",
       "      <td>0.033674</td>\n",
       "      <td>-0.015561</td>\n",
       "      <td>0.015513</td>\n",
       "      <td>-0.040508</td>\n",
       "      <td>0.034970</td>\n",
       "    </tr>\n",
       "    <tr>\n",
       "      <th>2</th>\n",
       "      <td>0.049580</td>\n",
       "      <td>-0.018880</td>\n",
       "      <td>0.008575</td>\n",
       "      <td>-0.001209</td>\n",
       "      <td>0.025757</td>\n",
       "      <td>-0.044829</td>\n",
       "      <td>0.032331</td>\n",
       "      <td>0.033173</td>\n",
       "      <td>-0.014188</td>\n",
       "      <td>0.021318</td>\n",
       "      <td>-0.047903</td>\n",
       "      <td>0.041910</td>\n",
       "    </tr>\n",
       "    <tr>\n",
       "      <th>3</th>\n",
       "      <td>0.048396</td>\n",
       "      <td>-0.018536</td>\n",
       "      <td>0.010370</td>\n",
       "      <td>0.002486</td>\n",
       "      <td>0.030434</td>\n",
       "      <td>-0.045997</td>\n",
       "      <td>0.035217</td>\n",
       "      <td>0.027505</td>\n",
       "      <td>-0.011444</td>\n",
       "      <td>0.027086</td>\n",
       "      <td>-0.053032</td>\n",
       "      <td>0.046547</td>\n",
       "    </tr>\n",
       "    <tr>\n",
       "      <th>4</th>\n",
       "      <td>0.047593</td>\n",
       "      <td>-0.018977</td>\n",
       "      <td>0.012437</td>\n",
       "      <td>0.008072</td>\n",
       "      <td>0.034270</td>\n",
       "      <td>-0.044054</td>\n",
       "      <td>0.039454</td>\n",
       "      <td>0.019317</td>\n",
       "      <td>-0.000169</td>\n",
       "      <td>0.032998</td>\n",
       "      <td>-0.045678</td>\n",
       "      <td>0.050390</td>\n",
       "    </tr>\n",
       "    <tr>\n",
       "      <th>...</th>\n",
       "      <td>...</td>\n",
       "      <td>...</td>\n",
       "      <td>...</td>\n",
       "      <td>...</td>\n",
       "      <td>...</td>\n",
       "      <td>...</td>\n",
       "      <td>...</td>\n",
       "      <td>...</td>\n",
       "      <td>...</td>\n",
       "      <td>...</td>\n",
       "      <td>...</td>\n",
       "      <td>...</td>\n",
       "    </tr>\n",
       "    <tr>\n",
       "      <th>1019</th>\n",
       "      <td>0.024959</td>\n",
       "      <td>-0.004623</td>\n",
       "      <td>-0.029523</td>\n",
       "      <td>-0.008197</td>\n",
       "      <td>-0.008354</td>\n",
       "      <td>0.068052</td>\n",
       "      <td>0.025029</td>\n",
       "      <td>-0.031888</td>\n",
       "      <td>0.036818</td>\n",
       "      <td>0.071217</td>\n",
       "      <td>-0.006046</td>\n",
       "      <td>0.012901</td>\n",
       "    </tr>\n",
       "    <tr>\n",
       "      <th>1020</th>\n",
       "      <td>0.025615</td>\n",
       "      <td>-0.007721</td>\n",
       "      <td>-0.026651</td>\n",
       "      <td>-0.011376</td>\n",
       "      <td>-0.014006</td>\n",
       "      <td>0.065647</td>\n",
       "      <td>0.011437</td>\n",
       "      <td>-0.032412</td>\n",
       "      <td>0.037174</td>\n",
       "      <td>0.084822</td>\n",
       "      <td>0.000644</td>\n",
       "      <td>0.012233</td>\n",
       "    </tr>\n",
       "    <tr>\n",
       "      <th>1021</th>\n",
       "      <td>0.025914</td>\n",
       "      <td>-0.008294</td>\n",
       "      <td>-0.024008</td>\n",
       "      <td>-0.012095</td>\n",
       "      <td>-0.017910</td>\n",
       "      <td>0.057614</td>\n",
       "      <td>-0.001507</td>\n",
       "      <td>-0.031758</td>\n",
       "      <td>0.037583</td>\n",
       "      <td>0.094179</td>\n",
       "      <td>0.002418</td>\n",
       "      <td>0.013932</td>\n",
       "    </tr>\n",
       "    <tr>\n",
       "      <th>1022</th>\n",
       "      <td>0.027084</td>\n",
       "      <td>-0.007575</td>\n",
       "      <td>-0.021471</td>\n",
       "      <td>-0.011781</td>\n",
       "      <td>-0.020548</td>\n",
       "      <td>0.050827</td>\n",
       "      <td>-0.009031</td>\n",
       "      <td>-0.029320</td>\n",
       "      <td>0.040132</td>\n",
       "      <td>0.092187</td>\n",
       "      <td>0.002195</td>\n",
       "      <td>0.006042</td>\n",
       "    </tr>\n",
       "    <tr>\n",
       "      <th>1023</th>\n",
       "      <td>0.027364</td>\n",
       "      <td>-0.007578</td>\n",
       "      <td>-0.019610</td>\n",
       "      <td>-0.013354</td>\n",
       "      <td>-0.021337</td>\n",
       "      <td>0.047496</td>\n",
       "      <td>-0.014273</td>\n",
       "      <td>-0.026274</td>\n",
       "      <td>0.046246</td>\n",
       "      <td>0.084994</td>\n",
       "      <td>-0.000358</td>\n",
       "      <td>-0.001434</td>\n",
       "    </tr>\n",
       "  </tbody>\n",
       "</table>\n",
       "<p>1024 rows × 12 columns</p>\n",
       "</div>"
      ],
      "text/plain": [
       "             0         1         2         3         4         5         6  \\\n",
       "0     0.051083 -0.018213  0.005234 -0.002736  0.018232 -0.038442  0.025289   \n",
       "1     0.050620 -0.019055  0.006672 -0.002341  0.021817 -0.041710  0.027154   \n",
       "2     0.049580 -0.018880  0.008575 -0.001209  0.025757 -0.044829  0.032331   \n",
       "3     0.048396 -0.018536  0.010370  0.002486  0.030434 -0.045997  0.035217   \n",
       "4     0.047593 -0.018977  0.012437  0.008072  0.034270 -0.044054  0.039454   \n",
       "...        ...       ...       ...       ...       ...       ...       ...   \n",
       "1019  0.024959 -0.004623 -0.029523 -0.008197 -0.008354  0.068052  0.025029   \n",
       "1020  0.025615 -0.007721 -0.026651 -0.011376 -0.014006  0.065647  0.011437   \n",
       "1021  0.025914 -0.008294 -0.024008 -0.012095 -0.017910  0.057614 -0.001507   \n",
       "1022  0.027084 -0.007575 -0.021471 -0.011781 -0.020548  0.050827 -0.009031   \n",
       "1023  0.027364 -0.007578 -0.019610 -0.013354 -0.021337  0.047496 -0.014273   \n",
       "\n",
       "             7         8         9        10        11  \n",
       "0     0.033210 -0.014176  0.011932 -0.035202  0.032645  \n",
       "1     0.033674 -0.015561  0.015513 -0.040508  0.034970  \n",
       "2     0.033173 -0.014188  0.021318 -0.047903  0.041910  \n",
       "3     0.027505 -0.011444  0.027086 -0.053032  0.046547  \n",
       "4     0.019317 -0.000169  0.032998 -0.045678  0.050390  \n",
       "...        ...       ...       ...       ...       ...  \n",
       "1019 -0.031888  0.036818  0.071217 -0.006046  0.012901  \n",
       "1020 -0.032412  0.037174  0.084822  0.000644  0.012233  \n",
       "1021 -0.031758  0.037583  0.094179  0.002418  0.013932  \n",
       "1022 -0.029320  0.040132  0.092187  0.002195  0.006042  \n",
       "1023 -0.026274  0.046246  0.084994 -0.000358 -0.001434  \n",
       "\n",
       "[1024 rows x 12 columns]"
      ]
     },
     "execution_count": 26,
     "metadata": {},
     "output_type": "execute_result"
    }
   ],
   "source": [
    "eigengesicher = pd.DataFrame(u)\n",
    "eigengesichter12 = eigengesicher.iloc[:,:12] # eventuell zeilen?\n",
    "eigengesichter12"
   ]
  },
  {
   "cell_type": "code",
   "execution_count": 27,
   "metadata": {},
   "outputs": [],
   "source": [
    "images = []\n",
    "for col in eigengesichter12:\n",
    "    colArr = np.array(eigengesichter12[col])\n",
    "    imgTmp = np.array_split(colArr, 32)\n",
    "    images.append(imgTmp)"
   ]
  },
  {
   "cell_type": "code",
   "execution_count": 28,
   "metadata": {
    "scrolled": true
   },
   "outputs": [
    {
     "data": {
      "image/png": "[encoded data removed]",
      "text/plain": [
       "<Figure size 500x200 with 1 Axes>"
      ]
     },
     "metadata": {},
     "output_type": "display_data"
    },
    {
     "data": {
      "image/png": "[encoded data removed]",
      "text/plain": [
       "<Figure size 500x200 with 1 Axes>"
      ]
     },
     "metadata": {},
     "output_type": "display_data"
    },
    {
     "data": {
      "image/png": "[encoded data removed]",
      "text/plain": [
       "<Figure size 500x200 with 1 Axes>"
      ]
     },
     "metadata": {},
     "output_type": "display_data"
    },
    {
     "data": {
      "image/png": "[encoded data removed]",
      "text/plain": [
       "<Figure size 500x200 with 1 Axes>"
      ]
     },
     "metadata": {},
     "output_type": "display_data"
    },
    {
     "data": {
      "image/png": "[encoded data removed]",
      "text/plain": [
       "<Figure size 500x200 with 1 Axes>"
      ]
     },
     "metadata": {},
     "output_type": "display_data"
    },
    {
     "data": {
      "image/png": "[encoded data removed]",
      "text/plain": [
       "<Figure size 500x200 with 1 Axes>"
      ]
     },
     "metadata": {},
     "output_type": "display_data"
    },
    {
     "data": {
      "image/png": "[encoded data removed]",
      "text/plain": [
       "<Figure size 500x200 with 1 Axes>"
      ]
     },
     "metadata": {},
     "output_type": "display_data"
    },
    {
     "data": {
      "image/png": "[encoded data removed]",
      "text/plain": [
       "<Figure size 500x200 with 1 Axes>"
      ]
     },
     "metadata": {},
     "output_type": "display_data"
    },
    {
     "data": {
      "image/png": "[encoded data removed]",
      "text/plain": [
       "<Figure size 500x200 with 1 Axes>"
      ]
     },
     "metadata": {},
     "output_type": "display_data"
    },
    {
     "data": {
      "image/png": "[encoded data removed]",
      "text/plain": [
       "<Figure size 500x200 with 1 Axes>"
      ]
     },
     "metadata": {},
     "output_type": "display_data"
    },
    {
     "data": {
      "image/png": "[encoded data removed]",
      "text/plain": [
       "<Figure size 500x200 with 1 Axes>"
      ]
     },
     "metadata": {},
     "output_type": "display_data"
    },
    {
     "data": {
      "image/png": "[encoded data removed]",
      "text/plain": [
       "<Figure size 500x200 with 1 Axes>"
      ]
     },
     "metadata": {},
     "output_type": "display_data"
    }
   ],
   "source": [
    "for img in images:\n",
    "    plt.figure(figsize=(5,2))\n",
    "    plt.imshow(img)\n",
    "    plt.show()"
   ]
  },
  {
   "cell_type": "markdown",
   "metadata": {},
   "source": [
    "Interpretation des Ergebnisses"
   ]
  },
  {
   "cell_type": "markdown",
   "metadata": {},
   "source": [
    "d."
   ]
  },
  {
   "cell_type": "markdown",
   "metadata": {},
   "source": [
    "Projizierung der Trainings- und Testbilder auf die ersten 7 Eigengesichter"
   ]
  },
  {
   "cell_type": "code",
   "execution_count": null,
   "metadata": {},
   "outputs": [],
   "source": []
  },
  {
   "cell_type": "code",
   "execution_count": 29,
   "metadata": {},
   "outputs": [],
   "source": [
    "dataTrainingMean = dataTraining.mean()\n",
    "\n",
    "eigengesichter7 = eigengesicher.iloc[:,:7]"
   ]
  },
  {
   "cell_type": "code",
   "execution_count": 30,
   "metadata": {},
   "outputs": [],
   "source": [
    "def project(u, n):\n",
    "    n_norm = np.sqrt(sum(n**2))   \n",
    "    proj_of_u_on_n = (np.dot(u, n)/n_norm**2)*n \n",
    "    return  u - proj_of_u_on_n"
   ]
  },
  {
   "cell_type": "code",
   "execution_count": 31,
   "metadata": {},
   "outputs": [],
   "source": [
    "dataTestM = testMatrix.loc[:,:1023] - dataTrainingMean\n",
    "testProjectedData = []\n",
    "for index, row in dataTestM.iterrows():\n",
    "    projTest = []\n",
    "    for col in eigengesichter7:\n",
    "        proj = project(np.array(row), np.array(eigengesichter7[col]))\n",
    "        projTest.append(proj)\n",
    "    testProjectedData.append(projTest)"
   ]
  },
  {
   "cell_type": "code",
   "execution_count": 32,
   "metadata": {},
   "outputs": [],
   "source": [
    "dataTrainingM = dataTraining-dataTrainingMean\n",
    "trainingProjectedData = []\n",
    "for index, row in dataTrainingM.iterrows():\n",
    "    projTest = []\n",
    "    for col in eigengesichter7:\n",
    "        proj = project(np.array(row), np.array(eigengesichter7[col]))\n",
    "        projTest.append(proj)\n",
    "    trainingProjectedData.append(projTest)"
   ]
  },
  {
   "cell_type": "markdown",
   "metadata": {},
   "source": [
    "Gesichtserkennung: euklidischen Abstand des Testbildes in diesem 7-dimensionalen Merkmalsraum zu allen Trainingsbildern berechnen. Die Persondes am nächsten liegenden Trainingsbildes (d.h. mit dem minimalen euklidischen Abstand) istdann (vermutlich) auch die korrekte Person für das Testbild (Nächster-Nachbar-Klassifikator).Welche Bilder werden korrekt klassifiziert, welche Verwechslungen gibt es?"
   ]
  },
  {
   "cell_type": "code",
   "execution_count": 33,
   "metadata": {},
   "outputs": [],
   "source": [
    "from scipy.spatial import distance"
   ]
  },
  {
   "cell_type": "code",
   "execution_count": 37,
   "metadata": {},
   "outputs": [
    {
     "name": "stdout",
     "output_type": "stream",
     "text": [
      "--  Testperson: Ariel_Sharon  -> zugeordnete Person: George_W_Bush\n"
     ]
    },
    {
     "data": {
      "image/png": "[encoded data removed]",
      "text/plain": [
       "<Figure size 500x200 with 1 Axes>"
      ]
     },
     "metadata": {},
     "output_type": "display_data"
    },
    {
     "data": {
      "image/png": "[encoded data removed]",
      "text/plain": [
       "<Figure size 500x200 with 1 Axes>"
      ]
     },
     "metadata": {},
     "output_type": "display_data"
    },
    {
     "name": "stdout",
     "output_type": "stream",
     "text": [
      "_____________________\n",
      "--  Testperson: Colin_Powell  -> zugeordnete Person: Colin_Powell\n"
     ]
    },
    {
     "data": {
      "image/png": "[encoded data removed]",
      "text/plain": [
       "<Figure size 500x200 with 1 Axes>"
      ]
     },
     "metadata": {},
     "output_type": "display_data"
    },
    {
     "data": {
      "image/png": "[encoded data removed]",
      "text/plain": [
       "<Figure size 500x200 with 1 Axes>"
      ]
     },
     "metadata": {},
     "output_type": "display_data"
    },
    {
     "name": "stdout",
     "output_type": "stream",
     "text": [
      "_____________________\n",
      "--  Testperson: Gerhard_Schroeder  -> zugeordnete Person: George_W_Bush\n"
     ]
    },
    {
     "data": {
      "image/png": "[encoded data removed]",
      "text/plain": [
       "<Figure size 500x200 with 1 Axes>"
      ]
     },
     "metadata": {},
     "output_type": "display_data"
    },
    {
     "data": {
      "image/png": "[encoded data removed]",
      "text/plain": [
       "<Figure size 500x200 with 1 Axes>"
      ]
     },
     "metadata": {},
     "output_type": "display_data"
    },
    {
     "name": "stdout",
     "output_type": "stream",
     "text": [
      "_____________________\n",
      "--  Testperson: Tony_Blair  -> zugeordnete Person: George_W_Bush\n"
     ]
    },
    {
     "data": {
      "image/png": "[encoded data removed]",
      "text/plain": [
       "<Figure size 500x200 with 1 Axes>"
      ]
     },
     "metadata": {},
     "output_type": "display_data"
    },
    {
     "data": {
      "image/png": "[encoded data removed]",
      "text/plain": [
       "<Figure size 500x200 with 1 Axes>"
      ]
     },
     "metadata": {},
     "output_type": "display_data"
    },
    {
     "name": "stdout",
     "output_type": "stream",
     "text": [
      "_____________________\n",
      "--  Testperson: George_W_Bush  -> zugeordnete Person: George_W_Bush\n"
     ]
    },
    {
     "data": {
      "image/png": "[encoded data removed]",
      "text/plain": [
       "<Figure size 500x200 with 1 Axes>"
      ]
     },
     "metadata": {},
     "output_type": "display_data"
    },
    {
     "data": {
      "image/png": "[encoded data removed]",
      "text/plain": [
       "<Figure size 500x200 with 1 Axes>"
      ]
     },
     "metadata": {},
     "output_type": "display_data"
    },
    {
     "name": "stdout",
     "output_type": "stream",
     "text": [
      "_____________________\n",
      "--  Testperson: Hugo_Chavez  -> zugeordnete Person: Gerhard_Schroeder\n"
     ]
    },
    {
     "data": {
      "image/png": "[encoded data removed]",
      "text/plain": [
       "<Figure size 500x200 with 1 Axes>"
      ]
     },
     "metadata": {},
     "output_type": "display_data"
    },
    {
     "data": {
      "image/png": "[encoded data removed]",
      "text/plain": [
       "<Figure size 500x200 with 1 Axes>"
      ]
     },
     "metadata": {},
     "output_type": "display_data"
    },
    {
     "name": "stdout",
     "output_type": "stream",
     "text": [
      "_____________________\n",
      "--  Testperson: Donald_Rumsfeld  -> zugeordnete Person: Donald_Rumsfeld\n"
     ]
    },
    {
     "data": {
      "image/png": "[encoded data removed]",
      "text/plain": [
       "<Figure size 500x200 with 1 Axes>"
      ]
     },
     "metadata": {},
     "output_type": "display_data"
    },
    {
     "data": {
      "image/png": "[encoded data removed]",
      "text/plain": [
       "<Figure size 500x200 with 1 Axes>"
      ]
     },
     "metadata": {},
     "output_type": "display_data"
    },
    {
     "name": "stdout",
     "output_type": "stream",
     "text": [
      "_____________________\n"
     ]
    }
   ],
   "source": [
    "for idx, testImg in enumerate(testProjectedData):\n",
    "    testperson = 'Testperson: ' + testMatrix.iloc[idx][1024]\n",
    "    #print(testperson)\n",
    "    classifiedPerson = '--'\n",
    "    trainingImgClassified = []\n",
    "    minEucl = -1\n",
    "    for idx2, trainingImg in enumerate(trainingProjectedData):\n",
    "        trainingperson = trainingMatrix.iloc[idx2][1024]\n",
    "        euclSum = 0\n",
    "        for m, merkmal in enumerate(testImg):\n",
    "            euclSum += distance.euclidean(testImg[m], trainingImg[m])\n",
    "        if (minEucl == -1):\n",
    "            minEucl = euclSum\n",
    "        elif (euclSum < minEucl):\n",
    "            minEucl = euclSum\n",
    "            classifiedPerson = trainingperson\n",
    "            trainingImgClassified = trainingImg\n",
    "            #print('changed :' + classifiedPerson + \" \" + str(euclSum))\n",
    "    print(\"--  \" + testperson + \"  -> zugeordnete Person: \" + classifiedPerson)\n",
    "    printImage(testImg, trainingImgClassified)"
   ]
  },
  {
   "cell_type": "code",
   "execution_count": 36,
   "metadata": {},
   "outputs": [],
   "source": [
    "def printImage(testImg, trainingImg):\n",
    "    imgtest = np.array_split(testImg[0], 32)\n",
    "    plt.figure(figsize=(5,2))\n",
    "    plt.imshow(imgtest)\n",
    "    plt.show()\n",
    "    imgtraining = np.array_split(trainingImg[0], 32) \n",
    "    plt.figure(figsize=(5,2))\n",
    "    plt.imshow(imgtraining)\n",
    "    plt.show()\n",
    "    print(\"_____________________\")"
   ]
  },
  {
   "cell_type": "code",
   "execution_count": 146,
   "metadata": {},
   "outputs": [
    {
     "data": {
      "application/json": {
       "Software versions": [
        {
         "module": "Python",
         "version": "3.7.6 64bit [GCC 7.3.0]"
        },
        {
         "module": "IPython",
         "version": "7.12.0"
        },
        {
         "module": "OS",
         "version": "Linux 5.4.0 53 generic x86_64 with debian bullseye sid"
        },
        {
         "module": "numpy",
         "version": "1.18.1"
        },
        {
         "module": "pandas",
         "version": "1.0.1"
        },
        {
         "module": "seaborn",
         "version": "0.10.0"
        }
       ]
      },
      "text/html": [
       "<table><tr><th>Software</th><th>Version</th></tr><tr><td>Python</td><td>3.7.6 64bit [GCC 7.3.0]</td></tr><tr><td>IPython</td><td>7.12.0</td></tr><tr><td>OS</td><td>Linux 5.4.0 53 generic x86_64 with debian bullseye sid</td></tr><tr><td>numpy</td><td>1.18.1</td></tr><tr><td>pandas</td><td>1.0.1</td></tr><tr><td>seaborn</td><td>0.10.0</td></tr><tr><td colspan='2'>Fri Nov 13 09:48:05 2020 CET</td></tr></table>"
      ],
      "text/latex": [
       "\\begin{tabular}{|l|l|}\\hline\n",
       "{\\bf Software} & {\\bf Version} \\\\ \\hline\\hline\n",
       "Python & 3.7.6 64bit [GCC 7.3.0] \\\\ \\hline\n",
       "IPython & 7.12.0 \\\\ \\hline\n",
       "OS & Linux 5.4.0 53 generic x86\\_64 with debian bullseye sid \\\\ \\hline\n",
       "numpy & 1.18.1 \\\\ \\hline\n",
       "pandas & 1.0.1 \\\\ \\hline\n",
       "seaborn & 0.10.0 \\\\ \\hline\n",
       "\\hline \\multicolumn{2}{|l|}{Fri Nov 13 09:48:05 2020 CET} \\\\ \\hline\n",
       "\\end{tabular}\n"
      ],
      "text/plain": [
       "Software versions\n",
       "Python 3.7.6 64bit [GCC 7.3.0]\n",
       "IPython 7.12.0\n",
       "OS Linux 5.4.0 53 generic x86_64 with debian bullseye sid\n",
       "numpy 1.18.1\n",
       "pandas 1.0.1\n",
       "seaborn 0.10.0\n",
       "Fri Nov 13 09:48:05 2020 CET"
      ]
     },
     "execution_count": 146,
     "metadata": {},
     "output_type": "execute_result"
    }
   ],
   "source": [
    "%version_information numpy, pandas, seaborn"
   ]
  }
 ],
 "metadata": {
  "kernelspec": {
   "display_name": "Python 3",
   "language": "python",
   "name": "python3"
  },
  "language_info": {
   "codemirror_mode": {
    "name": "ipython",
    "version": 3
   },
   "file_extension": ".py",
   "mimetype": "text/x-python",
   "name": "python",
   "nbconvert_exporter": "python",
   "pygments_lexer": "ipython3",
   "version": "3.7.6"
  }
 },
 "nbformat": 4,
 "nbformat_minor": 4
}
