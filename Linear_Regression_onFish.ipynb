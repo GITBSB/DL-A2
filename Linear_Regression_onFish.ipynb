{
  "nbformat": 4,
  "nbformat_minor": 0,
  "metadata": {
    "colab": {
      "name": "Linear_Regression_onFish.ipynb",
      "provenance": [],
      "collapsed_sections": [],
      "include_colab_link": true
    },
    "kernelspec": {
      "display_name": "Python 3",
      "language": "python",
      "name": "python3"
    },
    "language_info": {
      "codemirror_mode": {
        "name": "ipython",
        "version": 3
      },
      "file_extension": ".py",
      "mimetype": "text/x-python",
      "name": "python",
      "nbconvert_exporter": "python",
      "pygments_lexer": "ipython3",
      "version": "3.6.8"
    }
  },
  "cells": [
    {
      "cell_type": "markdown",
      "metadata": {
        "id": "view-in-github",
        "colab_type": "text"
      },
      "source": [
        "<a href=\"https://colab.research.google.com/github/GITBSB/ML-A5/blob/main/Linear_Regression_onFish.ipynb\" target=\"_parent\"><img src=\"https://colab.research.google.com/assets/colab-badge.svg\" alt=\"Open In Colab\"/></a>"
      ]
    },
    {
      "cell_type": "markdown",
      "metadata": {
        "id": "EIolRLmR2tJc"
      },
      "source": [
        "# Linear Regression on Fish Data\n",
        "\n",
        "The following data-set contains the number of fish groups of camper caught in a state park (taken from https://stats.idre.ucla.edu/r/dae/zip/). Your task here is to predict the number of fish caught by a fishing party from the following information: \n",
        "\n",
        "* how many people are in the group\n",
        "* the number children in the group\n",
        "* the use of live bait\n",
        "* whether the group came with a camper to the park. \n",
        "\n",
        "We have a small data set, of 250 groups, which visited a state park and provided. For comparison the data set is already split into a training set and testset."
      ]
    },
    {
      "cell_type": "code",
      "metadata": {
        "id": "YsAt_vDL3jFG"
      },
      "source": [
        "import matplotlib.pyplot as plt\n",
        "import numpy as np\n",
        "import pandas as pd\n",
        "%matplotlib inline\n",
        "import tensorflow as tf\n",
        "from math import log\n",
        "%load_ext version_information"
      ],
      "execution_count": 55,
      "outputs": []
    },
    {
      "cell_type": "code",
      "metadata": {
        "colab": {
          "base_uri": "https://localhost:8080/"
        },
        "id": "wpcscKWjhcfo",
        "outputId": "b070deb0-3b80-49b1-fde2-995cca6cf2bd"
      },
      "source": [
        ""
      ],
      "execution_count": 54,
      "outputs": [
        {
          "output_type": "stream",
          "text": [
            "Collecting version_information\n",
            "  Downloading https://files.pythonhosted.org/packages/ff/b0/6088e15b9ac43a08ccd300d68e0b900a20cf62077596c11ad11dd8cc9e4b/version_information-1.0.3.tar.gz\n",
            "Building wheels for collected packages: version-information\n",
            "  Building wheel for version-information (setup.py) ... \u001b[?25l\u001b[?25hdone\n",
            "  Created wheel for version-information: filename=version_information-1.0.3-cp36-none-any.whl size=3881 sha256=38b2d888274a56065d3cbd3d3d84e90e88243eb088558dd79fa9fadadd0669e7\n",
            "  Stored in directory: /root/.cache/pip/wheels/1f/4c/b3/1976ac11dbd802723b564de1acaa453a72c36c95827e576321\n",
            "Successfully built version-information\n",
            "Installing collected packages: version-information\n",
            "Successfully installed version-information-1.0.3\n"
          ],
          "name": "stdout"
        }
      ]
    },
    {
      "cell_type": "code",
      "metadata": {
        "id": "2FQJjRm32sVc",
        "colab": {
          "base_uri": "https://localhost:8080/",
          "height": 419
        },
        "outputId": "39574cf1-d2f8-4796-e104-7cef53fe0fd6"
      },
      "source": [
        "# The Fish Data Set\n",
        "# See example 2 from https://stats.idre.ucla.edu/r/dae/zip/ \n",
        "#\"nofish\",\"livebait\",\"camper\",\"persons\",\"child\",\"xb\",\"zg\",\"count\"\n",
        "import os\n",
        "from urllib.request import urlretrieve\n",
        "if not os.path.isfile('fishing.npz'):\n",
        "    print(\"Downloading\")\n",
        "    urlretrieve('http://www-home.htwg-konstanz.de/~oduerr/data/fishing.npz',filename = 'fishing.npz')\n",
        "d = np.load('fishing.npz')\n",
        "Xt = d['Xt'] #\"livebait\",\"camper\",\"persons\",\"child\"\n",
        "Xte = d['Xte']\n",
        "yt = d['yt']\n",
        "yte = d['yte']\n",
        "xtrain= pd.DataFrame(Xt)\n",
        "xtrain"
      ],
      "execution_count": 4,
      "outputs": [
        {
          "output_type": "execute_result",
          "data": {
            "text/html": [
              "<div>\n",
              "<style scoped>\n",
              "    .dataframe tbody tr th:only-of-type {\n",
              "        vertical-align: middle;\n",
              "    }\n",
              "\n",
              "    .dataframe tbody tr th {\n",
              "        vertical-align: top;\n",
              "    }\n",
              "\n",
              "    .dataframe thead th {\n",
              "        text-align: right;\n",
              "    }\n",
              "</style>\n",
              "<table border=\"1\" class=\"dataframe\">\n",
              "  <thead>\n",
              "    <tr style=\"text-align: right;\">\n",
              "      <th></th>\n",
              "      <th>0</th>\n",
              "      <th>1</th>\n",
              "      <th>2</th>\n",
              "      <th>3</th>\n",
              "    </tr>\n",
              "  </thead>\n",
              "  <tbody>\n",
              "    <tr>\n",
              "      <th>0</th>\n",
              "      <td>1.0</td>\n",
              "      <td>0.0</td>\n",
              "      <td>4.0</td>\n",
              "      <td>0.0</td>\n",
              "    </tr>\n",
              "    <tr>\n",
              "      <th>1</th>\n",
              "      <td>1.0</td>\n",
              "      <td>1.0</td>\n",
              "      <td>2.0</td>\n",
              "      <td>0.0</td>\n",
              "    </tr>\n",
              "    <tr>\n",
              "      <th>2</th>\n",
              "      <td>1.0</td>\n",
              "      <td>1.0</td>\n",
              "      <td>3.0</td>\n",
              "      <td>0.0</td>\n",
              "    </tr>\n",
              "    <tr>\n",
              "      <th>3</th>\n",
              "      <td>1.0</td>\n",
              "      <td>1.0</td>\n",
              "      <td>3.0</td>\n",
              "      <td>2.0</td>\n",
              "    </tr>\n",
              "    <tr>\n",
              "      <th>4</th>\n",
              "      <td>1.0</td>\n",
              "      <td>1.0</td>\n",
              "      <td>4.0</td>\n",
              "      <td>1.0</td>\n",
              "    </tr>\n",
              "    <tr>\n",
              "      <th>...</th>\n",
              "      <td>...</td>\n",
              "      <td>...</td>\n",
              "      <td>...</td>\n",
              "      <td>...</td>\n",
              "    </tr>\n",
              "    <tr>\n",
              "      <th>195</th>\n",
              "      <td>1.0</td>\n",
              "      <td>1.0</td>\n",
              "      <td>1.0</td>\n",
              "      <td>0.0</td>\n",
              "    </tr>\n",
              "    <tr>\n",
              "      <th>196</th>\n",
              "      <td>1.0</td>\n",
              "      <td>1.0</td>\n",
              "      <td>1.0</td>\n",
              "      <td>0.0</td>\n",
              "    </tr>\n",
              "    <tr>\n",
              "      <th>197</th>\n",
              "      <td>1.0</td>\n",
              "      <td>1.0</td>\n",
              "      <td>3.0</td>\n",
              "      <td>0.0</td>\n",
              "    </tr>\n",
              "    <tr>\n",
              "      <th>198</th>\n",
              "      <td>1.0</td>\n",
              "      <td>0.0</td>\n",
              "      <td>1.0</td>\n",
              "      <td>0.0</td>\n",
              "    </tr>\n",
              "    <tr>\n",
              "      <th>199</th>\n",
              "      <td>1.0</td>\n",
              "      <td>0.0</td>\n",
              "      <td>4.0</td>\n",
              "      <td>2.0</td>\n",
              "    </tr>\n",
              "  </tbody>\n",
              "</table>\n",
              "<p>200 rows × 4 columns</p>\n",
              "</div>"
            ],
            "text/plain": [
              "       0    1    2    3\n",
              "0    1.0  0.0  4.0  0.0\n",
              "1    1.0  1.0  2.0  0.0\n",
              "2    1.0  1.0  3.0  0.0\n",
              "3    1.0  1.0  3.0  2.0\n",
              "4    1.0  1.0  4.0  1.0\n",
              "..   ...  ...  ...  ...\n",
              "195  1.0  1.0  1.0  0.0\n",
              "196  1.0  1.0  1.0  0.0\n",
              "197  1.0  1.0  3.0  0.0\n",
              "198  1.0  0.0  1.0  0.0\n",
              "199  1.0  0.0  4.0  2.0\n",
              "\n",
              "[200 rows x 4 columns]"
            ]
          },
          "metadata": {
            "tags": []
          },
          "execution_count": 4
        }
      ]
    },
    {
      "cell_type": "markdown",
      "metadata": {
        "id": "rIaw-4LgK0zz"
      },
      "source": [
        "a) Do a linear regression by creating a design matrix with the intercept term and use the fomulae given in the lecture to determine the coefficients on the training set."
      ]
    },
    {
      "cell_type": "markdown",
      "metadata": {
        "id": "4-uaG92sPBXg"
      },
      "source": [
        "b) Repeat a) but this time with `LinearRegression` from `sklearn.linear_model`"
      ]
    },
    {
      "cell_type": "markdown",
      "metadata": {
        "id": "g5JlRm3rzDzc"
      },
      "source": [
        "Result: array([-8.49222821,  2.4822138 ,  2.95430727,  4.64953914, -5.47160051])\n",
        "Don't forget the intercept, you should have 5 numbers!"
      ]
    },
    {
      "cell_type": "markdown",
      "metadata": {
        "id": "pNIUUugxPmSZ"
      },
      "source": [
        "c) Determine the Root Mean Square Error (RMSE) and the average negative log-likelihood (NLL) on the testset. For NLL we assume that the conditional probability distrubution (CPD) $p(y|x)$ is given by the density of a Gaussian with constant variance $\\sigma^2$. Estimate $\\sigma^2$ using the variance of the residuals. Use the variance estimation with $1/N$. \n",
        "\n",
        "Result: $ RMSE \\approx 8.58812$, $\\hat \\sigma^2 \\approx 73.7559$, $\\tt{NLL} \\approx 3.569$"
      ]
    },
    {
      "cell_type": "markdown",
      "metadata": {
        "id": "nCJHxadORefq"
      },
      "source": [
        "d) For the testset: plot the predicted mean number of fish caught ($\\mu$) against observed number of fish caught. Further include the 2.5 and 97.5 precentile of p(y|x), the conditional predictive distribution (CPD) of $y$ for a given $x$. Why is a Gaussian not ideal for that kind of data? \n",
        "\n",
        "Hint: For the Gaussian the 2.5% and the 97.5% percentile is approximatiy given by $\\mu \\pm 1.96*\\sigma$"
      ]
    },
    {
      "cell_type": "markdown",
      "metadata": {
        "id": "-wo5FcZ_VHIw"
      },
      "source": [
        "e) This data is count data. Count data has only positive values and also the distribution is discrete. You cannot catch 0.5 fish and that the CPD has probability density > 0 on negative number of fish is wrong too. A Gaussian as a CPD is therefore not ideal. \n",
        "\n",
        "Now use a Poissonian as CPD. If we assume a Poissonian then the probability to catch $k$ fish is given by \n",
        "$$\n",
        "  p(k) = \\exp(-\\mu) \\frac{\\mu^k}{k!}\n",
        "$$\n",
        "\n",
        "and the NLL is thus by:\n",
        "\n",
        "$$\n",
        " log(p(k)) = -\\mu  + k \\cdot \\log(\\mu) - log(k!)\n",
        "$$\n",
        "\n",
        "with $\\mu$ being the expectation. In our case the average number of fish expected.\n",
        "\n",
        "In the case of the probabilistic interpretation of the linear regression, $y_i$ for a given $x_i$ is distributed like a Gaussian. The paramter $\\mu_i$ from $N(\\mu_i,\\sigma^2)$ has been determined from $x_i$ via $\\mu_i= \\beta^T \\cdot x_i$ by minimizing the NLL. \n",
        "\n",
        "A small additional detail: For the Poissonian case, $\\mu_i$ needs to be positive. We therefore do not use $\\beta^T \\cdot x_i$ directly but \"pipe it through\" an exponential first to make it positive and thus link $\\mu_i=exp(\\beta^T \\cdot x_i)$ to the data.\n",
        "\n",
        "Use a gradient descent approach on the NLL to find the solution for the parameters. Calculate the RMSE and the NLL on the test set and compare with c).\n",
        "\n",
        "Hint: On the trainingset for the parameter values (1,1,1,1,1) the NLL should be approx 1508 and the gradient (1518.61, 1403.99, 1171.02, 5701.91, 3258.7). For the NLL a good learning rate would be 0.001 and training should be done for at least 5000 epochs."
      ]
    },
    {
      "cell_type": "markdown",
      "metadata": {
        "id": "vFtiSrDuzDzd"
      },
      "source": [
        "f) Do the same plot as in d) but this time with a Poisson CPD. Hint you can use scipy.stats.poisson to calculate the percentiles."
      ]
    },
    {
      "cell_type": "markdown",
      "metadata": {
        "id": "q1ZZcWuRA1VT"
      },
      "source": [
        "**Aufgabe a): Design matrix with the intercept term**"
      ]
    },
    {
      "cell_type": "code",
      "metadata": {
        "colab": {
          "base_uri": "https://localhost:8080/",
          "height": 419
        },
        "id": "ePWzNzTQYBHO",
        "outputId": "a4a773e2-ca4d-4608-9604-aebcf7ab7cc3"
      },
      "source": [
        "xtrain.insert(0, 'Intercept',np.ones((200,1)))\n",
        "xtrain"
      ],
      "execution_count": 5,
      "outputs": [
        {
          "output_type": "execute_result",
          "data": {
            "text/html": [
              "<div>\n",
              "<style scoped>\n",
              "    .dataframe tbody tr th:only-of-type {\n",
              "        vertical-align: middle;\n",
              "    }\n",
              "\n",
              "    .dataframe tbody tr th {\n",
              "        vertical-align: top;\n",
              "    }\n",
              "\n",
              "    .dataframe thead th {\n",
              "        text-align: right;\n",
              "    }\n",
              "</style>\n",
              "<table border=\"1\" class=\"dataframe\">\n",
              "  <thead>\n",
              "    <tr style=\"text-align: right;\">\n",
              "      <th></th>\n",
              "      <th>Intercept</th>\n",
              "      <th>0</th>\n",
              "      <th>1</th>\n",
              "      <th>2</th>\n",
              "      <th>3</th>\n",
              "    </tr>\n",
              "  </thead>\n",
              "  <tbody>\n",
              "    <tr>\n",
              "      <th>0</th>\n",
              "      <td>1.0</td>\n",
              "      <td>1.0</td>\n",
              "      <td>0.0</td>\n",
              "      <td>4.0</td>\n",
              "      <td>0.0</td>\n",
              "    </tr>\n",
              "    <tr>\n",
              "      <th>1</th>\n",
              "      <td>1.0</td>\n",
              "      <td>1.0</td>\n",
              "      <td>1.0</td>\n",
              "      <td>2.0</td>\n",
              "      <td>0.0</td>\n",
              "    </tr>\n",
              "    <tr>\n",
              "      <th>2</th>\n",
              "      <td>1.0</td>\n",
              "      <td>1.0</td>\n",
              "      <td>1.0</td>\n",
              "      <td>3.0</td>\n",
              "      <td>0.0</td>\n",
              "    </tr>\n",
              "    <tr>\n",
              "      <th>3</th>\n",
              "      <td>1.0</td>\n",
              "      <td>1.0</td>\n",
              "      <td>1.0</td>\n",
              "      <td>3.0</td>\n",
              "      <td>2.0</td>\n",
              "    </tr>\n",
              "    <tr>\n",
              "      <th>4</th>\n",
              "      <td>1.0</td>\n",
              "      <td>1.0</td>\n",
              "      <td>1.0</td>\n",
              "      <td>4.0</td>\n",
              "      <td>1.0</td>\n",
              "    </tr>\n",
              "    <tr>\n",
              "      <th>...</th>\n",
              "      <td>...</td>\n",
              "      <td>...</td>\n",
              "      <td>...</td>\n",
              "      <td>...</td>\n",
              "      <td>...</td>\n",
              "    </tr>\n",
              "    <tr>\n",
              "      <th>195</th>\n",
              "      <td>1.0</td>\n",
              "      <td>1.0</td>\n",
              "      <td>1.0</td>\n",
              "      <td>1.0</td>\n",
              "      <td>0.0</td>\n",
              "    </tr>\n",
              "    <tr>\n",
              "      <th>196</th>\n",
              "      <td>1.0</td>\n",
              "      <td>1.0</td>\n",
              "      <td>1.0</td>\n",
              "      <td>1.0</td>\n",
              "      <td>0.0</td>\n",
              "    </tr>\n",
              "    <tr>\n",
              "      <th>197</th>\n",
              "      <td>1.0</td>\n",
              "      <td>1.0</td>\n",
              "      <td>1.0</td>\n",
              "      <td>3.0</td>\n",
              "      <td>0.0</td>\n",
              "    </tr>\n",
              "    <tr>\n",
              "      <th>198</th>\n",
              "      <td>1.0</td>\n",
              "      <td>1.0</td>\n",
              "      <td>0.0</td>\n",
              "      <td>1.0</td>\n",
              "      <td>0.0</td>\n",
              "    </tr>\n",
              "    <tr>\n",
              "      <th>199</th>\n",
              "      <td>1.0</td>\n",
              "      <td>1.0</td>\n",
              "      <td>0.0</td>\n",
              "      <td>4.0</td>\n",
              "      <td>2.0</td>\n",
              "    </tr>\n",
              "  </tbody>\n",
              "</table>\n",
              "<p>200 rows × 5 columns</p>\n",
              "</div>"
            ],
            "text/plain": [
              "     Intercept    0    1    2    3\n",
              "0          1.0  1.0  0.0  4.0  0.0\n",
              "1          1.0  1.0  1.0  2.0  0.0\n",
              "2          1.0  1.0  1.0  3.0  0.0\n",
              "3          1.0  1.0  1.0  3.0  2.0\n",
              "4          1.0  1.0  1.0  4.0  1.0\n",
              "..         ...  ...  ...  ...  ...\n",
              "195        1.0  1.0  1.0  1.0  0.0\n",
              "196        1.0  1.0  1.0  1.0  0.0\n",
              "197        1.0  1.0  1.0  3.0  0.0\n",
              "198        1.0  1.0  0.0  1.0  0.0\n",
              "199        1.0  1.0  0.0  4.0  2.0\n",
              "\n",
              "[200 rows x 5 columns]"
            ]
          },
          "metadata": {
            "tags": []
          },
          "execution_count": 5
        }
      ]
    },
    {
      "cell_type": "code",
      "metadata": {
        "colab": {
          "base_uri": "https://localhost:8080/"
        },
        "id": "6rVlj_UzYAba",
        "outputId": "c4df9bca-a5f2-487f-e8de-b6dd7c490c3c"
      },
      "source": [
        "X = np.asmatrix(xtrain.iloc[:,0:5])\n",
        "print(X[0:3])"
      ],
      "execution_count": 6,
      "outputs": [
        {
          "output_type": "stream",
          "text": [
            "[[1. 1. 0. 4. 0.]\n",
            " [1. 1. 1. 2. 0.]\n",
            " [1. 1. 1. 3. 0.]]\n"
          ],
          "name": "stdout"
        }
      ]
    },
    {
      "cell_type": "code",
      "metadata": {
        "id": "QA21lFXxzDzd",
        "colab": {
          "base_uri": "https://localhost:8080/"
        },
        "outputId": "b4fcb82f-743e-417f-8cd1-1ab115a8362d"
      },
      "source": [
        "### fomulae given in the lecture to determine the coefficients on the training set\n",
        "XTX = np.matmul(X.T,X) \n",
        "XTXI = np.linalg.inv(XTX)\n",
        "XTXIXT = np.matmul(XTXI, X.T)\n",
        "w = np.matmul(XTXIXT,yt)\n",
        "w"
      ],
      "execution_count": 37,
      "outputs": [
        {
          "output_type": "execute_result",
          "data": {
            "text/plain": [
              "matrix([[-8.49222821,  2.4822138 ,  2.95430727,  4.64953914, -5.47160051]])"
            ]
          },
          "metadata": {
            "tags": []
          },
          "execution_count": 37
        }
      ]
    },
    {
      "cell_type": "markdown",
      "metadata": {
        "id": "EVqGddgoBDd6"
      },
      "source": [
        "**Aufgabe b): LinearRegression from sklearn.linear_model**"
      ]
    },
    {
      "cell_type": "code",
      "metadata": {
        "colab": {
          "base_uri": "https://localhost:8080/"
        },
        "id": "VvbTyryHAzdG",
        "outputId": "68decbed-ad65-4208-d191-7c9f020d8701"
      },
      "source": [
        "from sklearn.linear_model import LinearRegression\n",
        "model_skl = LinearRegression(fit_intercept=True) \n",
        "model_skl.fit(Xt,yt)\n",
        "intercept = model_skl.intercept_,\n",
        "model_skl.coef_ \n",
        "\n",
        "result = np.append(intercept, model_skl.coef_, axis=0)\n",
        "result"
      ],
      "execution_count": 8,
      "outputs": [
        {
          "output_type": "execute_result",
          "data": {
            "text/plain": [
              "array([-8.492231 ,  2.4822128,  2.9543095,  4.6495404, -5.4716005],\n",
              "      dtype=float32)"
            ]
          },
          "metadata": {
            "tags": []
          },
          "execution_count": 8
        }
      ]
    },
    {
      "cell_type": "markdown",
      "metadata": {
        "id": "3kpCIsFYyqme"
      },
      "source": [
        "**Aufgabe c): RMSE, Varianz & NLL**"
      ]
    },
    {
      "cell_type": "code",
      "metadata": {
        "colab": {
          "base_uri": "https://localhost:8080/"
        },
        "id": "yGtReYdAPTwk",
        "outputId": "8250685d-55a1-4002-efba-883d72ca34ab"
      },
      "source": [
        "# RMSE without sklearn\n",
        "w = np.asarray(w).flatten()\n",
        "Xte_I = np.hstack((np.ones((Xte.shape[0], 1), dtype=Xte.dtype), Xte))\n",
        "y_hat = Xte_I.dot(w.T)\n",
        "RMSE = np.sqrt(np.mean((yte - y_hat.flatten())**2))\n",
        "RMSE"
      ],
      "execution_count": 9,
      "outputs": [
        {
          "output_type": "execute_result",
          "data": {
            "text/plain": [
              "8.58812638673423"
            ]
          },
          "metadata": {
            "tags": []
          },
          "execution_count": 9
        }
      ]
    },
    {
      "cell_type": "code",
      "metadata": {
        "colab": {
          "base_uri": "https://localhost:8080/"
        },
        "id": "dljDZbRTBJlE",
        "outputId": "272311b2-075e-4ca9-f96e-8baca014e526"
      },
      "source": [
        "# RMSE with sklearn\n",
        "from sklearn.metrics import mean_squared_error\n",
        "y_hat = model_skl.predict(Xte) \n",
        "RMSE = np.sqrt(mean_squared_error(yte, y_hat))\n",
        "RMSE"
      ],
      "execution_count": 10,
      "outputs": [
        {
          "output_type": "execute_result",
          "data": {
            "text/plain": [
              "8.588127"
            ]
          },
          "metadata": {
            "tags": []
          },
          "execution_count": 10
        }
      ]
    },
    {
      "cell_type": "code",
      "metadata": {
        "colab": {
          "base_uri": "https://localhost:8080/"
        },
        "id": "V37Ax3eMgQNi",
        "outputId": "7606b898-2e60-479f-addc-c7f366df5835"
      },
      "source": [
        "y_hat"
      ],
      "execution_count": 53,
      "outputs": [
        {
          "output_type": "execute_result",
          "data": {
            "text/plain": [
              "array([ 5.4563904 ,  2.4670029 , 10.10593   ,  3.2890625 , -1.3604784 ,\n",
              "       -2.182538  ,  5.4213123 ,  2.4670029 ,  1.593832  ,  6.243372  ,\n",
              "       -2.182538  ,  1.6449423 ,  6.243372  ,  6.243372  , -3.0045977 ,\n",
              "       -2.182538  ,  3.761159  ,  1.593832  , -1.3604784 , 10.892912  ,\n",
              "        0.77177143,  2.4670029 , -3.0045977 ,  1.593832  ,  6.243372  ,\n",
              "        1.593832  , -0.8883815 ,  7.116543  , -1.3604784 , -2.182538  ,\n",
              "        3.2890625 , 10.070852  ,  0.77177143,  1.6449423 ,  6.243372  ,\n",
              "        6.243372  ,  0.77177143, -1.3604784 , 10.892912  , 15.542452  ,\n",
              "        2.9390993 ,  1.6449423 , 10.070852  , 10.070852  ,  0.77177143,\n",
              "        7.116543  , 15.542452  ,  0.77177143,  3.2890625 ,  5.4213123 ],\n",
              "      dtype=float32)"
            ]
          },
          "metadata": {
            "tags": []
          },
          "execution_count": 53
        }
      ]
    },
    {
      "cell_type": "code",
      "metadata": {
        "colab": {
          "base_uri": "https://localhost:8080/"
        },
        "id": "jB2roCqEBY8Y",
        "outputId": "2a04eda0-83f5-4da4-fea4-b8585d97b1d7"
      },
      "source": [
        "# Varianz der Residuen\n",
        "residuals= yte-y_hat.flatten()\n",
        "n = residuals.size\n",
        "meanre = residuals.mean()\n",
        "variance = sum((residuals-meanre)**2/n)\n",
        "variance"
      ],
      "execution_count": 38,
      "outputs": [
        {
          "output_type": "execute_result",
          "data": {
            "text/plain": [
              "73.48030588678375"
            ]
          },
          "metadata": {
            "tags": []
          },
          "execution_count": 38
        }
      ]
    },
    {
      "cell_type": "code",
      "metadata": {
        "colab": {
          "base_uri": "https://localhost:8080/"
        },
        "id": "6D7DMrdtgA5m",
        "outputId": "3156d8c8-2821-433d-ffe6-2122adb048ee"
      },
      "source": [
        "yte.shape[0]"
      ],
      "execution_count": 39,
      "outputs": [
        {
          "output_type": "execute_result",
          "data": {
            "text/plain": [
              "50"
            ]
          },
          "metadata": {
            "tags": []
          },
          "execution_count": 39
        }
      ]
    },
    {
      "cell_type": "markdown",
      "metadata": {
        "id": "iXqCjvxnYP1w"
      },
      "source": [
        "Negative Log Likelihood"
      ]
    },
    {
      "cell_type": "code",
      "metadata": {
        "colab": {
          "base_uri": "https://localhost:8080/"
        },
        "id": "VEMctCqCZpoc",
        "outputId": "d0d711b1-cd8a-4fb5-faf6-d52d5ca637d6"
      },
      "source": [
        "import scipy.stats\n",
        "# Normalverteilung der vorhergesagten Werte berechnen -> Wahrscheinlichkeit des Testwertes(tatsächlicher Wert)\n",
        "# negierter Logarithmus des Wertes zur GesamtNLL hinzufügen\n",
        "totalNLL = 0\n",
        "n = yte.shape[0]\n",
        "for i in range (n):\n",
        "  norm = scipy.stats.norm(loc=y_hat[i], scale=np.sqrt(variance))\n",
        "  totalNLL += -np.log(norm.pdf(yte[i]))\n",
        "totalNLL / n"
      ],
      "execution_count": 40,
      "outputs": [
        {
          "output_type": "execute_result",
          "data": {
            "text/plain": [
              "3.5693226818656023"
            ]
          },
          "metadata": {
            "tags": []
          },
          "execution_count": 40
        }
      ]
    },
    {
      "cell_type": "markdown",
      "metadata": {
        "id": "yZGmShhDDd6J"
      },
      "source": [
        "**Aufgabe d): plot the predicted mean number of fish caught ( 𝜇 ) against observed number of fish caught**"
      ]
    },
    {
      "cell_type": "code",
      "metadata": {
        "colab": {
          "base_uri": "https://localhost:8080/",
          "height": 295
        },
        "id": "AMYIYWw8w-oA",
        "outputId": "02719fd1-61ea-42ae-9d02-23fc7282c973"
      },
      "source": [
        "plt.scatter(y_hat, yte)\n",
        "plt.plot(y_hat, y_hat, c=\"black\")\n",
        "###2.5 and 97.5 precentile \n",
        "plt.plot(y_hat.flatten(), y_hat.flatten()+1.96*np.sqrt(variance),c=\"green\")\n",
        "plt.plot(y_hat.flatten(), y_hat.flatten()-1.96*np.sqrt(variance),c=\"green\")\n",
        "\n",
        "plt.title(\"Comparison predicted/observed\")\n",
        "plt.xlabel('predicted mean number of fish caught')\n",
        "plt.ylabel('observed number of fish')\n",
        "plt.show()"
      ],
      "execution_count": 51,
      "outputs": [
        {
          "output_type": "display_data",
          "data": {
            "image/png": "[encoded data removed]",
            "text/plain": [
              "<Figure size 432x288 with 1 Axes>"
            ]
          },
          "metadata": {
            "tags": [],
            "needs_background": "light"
          }
        }
      ]
    },
    {
      "cell_type": "markdown",
      "metadata": {
        "id": "mnJlrptJdj4m"
      },
      "source": [
        "Warum Gaussian schlecht?: Beachtet auch negative Werte, bei Zähldaten führt dies zu falschen Ergebnissen"
      ]
    },
    {
      "cell_type": "markdown",
      "metadata": {
        "id": "CqUArMAfMbq8"
      },
      "source": [
        "**Aufgabe d) Poisson: Use a gradient descent approach on the NLL to find the solution for the parameters**"
      ]
    },
    {
      "cell_type": "code",
      "metadata": {
        "id": "MqRGVXsG3RVQ"
      },
      "source": [
        "import math\n",
        "\n",
        "def nll_loss(x, y, w):\n",
        "  y_hat = x.dot(w.T)\n",
        "  y_hat_exp = np.exp(y_hat)\n",
        "\n",
        "  n = y.shape[0]\n",
        "  totalNLL = 0\n",
        "\n",
        "  for i in range(n):\n",
        "    # Berechne NLL\n",
        "    totalNLL += (-y_hat_exp[i] + y[i] * np.log(y_hat_exp[i]) - log(math.factorial(y[i])))\n",
        "  return -totalNLL / n"
      ],
      "execution_count": 24,
      "outputs": []
    },
    {
      "cell_type": "code",
      "metadata": {
        "id": "TB-oy2M8_qgD",
        "colab": {
          "base_uri": "https://localhost:8080/"
        },
        "outputId": "07a91e1f-acd3-4537-eb69-6e7583b09e89"
      },
      "source": [
        "nll_loss(np.asarray(X), yt, np.array([1,1,1,1,1]))"
      ],
      "execution_count": 25,
      "outputs": [
        {
          "output_type": "execute_result",
          "data": {
            "text/plain": [
              "1507.9856602262093"
            ]
          },
          "metadata": {
            "tags": []
          },
          "execution_count": 25
        }
      ]
    },
    {
      "cell_type": "code",
      "metadata": {
        "id": "qqoTWKswITMe"
      },
      "source": [
        "def calcGrad(x, y , w):\n",
        "  y_hat = x.dot(w.T)\n",
        "  y_hat_exp = np.exp(y_hat)\n",
        "  sumofGrad=np.zeros(len(w))\n",
        "\n",
        "  for i in range(y.shape[0]):\n",
        "    for j in range(w.shape[0]):\n",
        "      # Berechne die jeweiligen Gradienten mit Ableitung der NLL Formel\n",
        "      sumofGrad[j] = sumofGrad[j] + (x[i,j] * ((y_hat_exp[i])-y[i]))\n",
        "              \n",
        "  return sumofGrad / y.shape[0]"
      ],
      "execution_count": 26,
      "outputs": []
    },
    {
      "cell_type": "code",
      "metadata": {
        "colab": {
          "base_uri": "https://localhost:8080/"
        },
        "id": "r-_S1fDqL-BO",
        "outputId": "605228e7-d106-484a-d905-8d9f4eddc05a"
      },
      "source": [
        "x = np.asarray(X)\n",
        "y = yt\n",
        "ws = np.array([1,1,1,1,1])\n",
        "learning_rate = 0.001\n",
        "epochs = 5000\n",
        "grads = calcGrad(x, y, ws)\n",
        "\n",
        "for i in range(epochs):   \n",
        "  ws = (ws - learning_rate * np.asarray(grads))\n",
        "  grads = calcGrad(x, y, ws)\n",
        "\n",
        "print(ws) # Koeffizienten\n",
        "print(\"NLL: \", nll_loss(x, y, ws)) # NLL"
      ],
      "execution_count": 27,
      "outputs": [
        {
          "output_type": "stream",
          "text": [
            "[-1.08852056  0.2597268   0.54509109  0.85448041 -1.65101241]\n",
            "NLL:  3.491753672786516\n"
          ],
          "name": "stdout"
        }
      ]
    },
    {
      "cell_type": "markdown",
      "metadata": {
        "id": "ZwdcpPjsRsn6"
      },
      "source": [
        "Berechne für Testdaten"
      ]
    },
    {
      "cell_type": "code",
      "metadata": {
        "id": "9wEFQu40FIDp",
        "colab": {
          "base_uri": "https://localhost:8080/"
        },
        "outputId": "40cf3e97-b70c-40c9-9dd4-fa43ea527d5c"
      },
      "source": [
        "yte_hat_poisson = np.exp(Xte_I.dot(ws.T))\n",
        "yte_hat_poisson"
      ],
      "execution_count": 28,
      "outputs": [
        {
          "output_type": "execute_result",
          "data": {
            "text/plain": [
              "array([ 4.37068903,  1.08723204, 10.27178771,  2.4113025 ,  1.02601939,\n",
              "        0.46262182,  1.8752203 ,  1.08723204,  1.76964283,  4.15893132,\n",
              "        0.46262182,  0.49022199,  4.15893132,  4.15893132,  0.20859153,\n",
              "        0.46262182,  3.2076268 ,  1.76964283,  1.02601939,  9.77412471,\n",
              "        0.79791415,  1.08723204,  0.20859153,  1.76964283,  4.15893132,\n",
              "        1.76964283,  1.36485874,  2.5551616 ,  1.02601939,  0.46262182,\n",
              "        2.4113025 ,  4.40705452,  0.79791415,  0.49022199,  4.15893132,\n",
              "        4.15893132,  0.79791415,  1.02601939,  9.77412471, 22.97068801,\n",
              "        1.44628666,  0.49022199,  4.40705452,  4.40705452,  0.79791415,\n",
              "        2.5551616 , 22.97068801,  0.79791415,  2.4113025 ,  1.8752203 ])"
            ]
          },
          "metadata": {
            "tags": []
          },
          "execution_count": 28
        }
      ]
    },
    {
      "cell_type": "code",
      "metadata": {
        "colab": {
          "base_uri": "https://localhost:8080/"
        },
        "id": "FwlOIqggRpSl",
        "outputId": "2f91e196-1dd2-4a91-f6bf-469b43c31ec4"
      },
      "source": [
        "# RMSE\n",
        "np.sqrt(mean_squared_error(yte, yte_hat_poisson))"
      ],
      "execution_count": 29,
      "outputs": [
        {
          "output_type": "execute_result",
          "data": {
            "text/plain": [
              "7.606839288683508"
            ]
          },
          "metadata": {
            "tags": []
          },
          "execution_count": 29
        }
      ]
    },
    {
      "cell_type": "code",
      "metadata": {
        "colab": {
          "base_uri": "https://localhost:8080/"
        },
        "id": "CMRGYN6_RpWN",
        "outputId": "30d458ad-2325-4d2a-9fa4-8034b5af7ad3"
      },
      "source": [
        "# NLL\n",
        "nll_loss(Xte_I, yte, ws)"
      ],
      "execution_count": 31,
      "outputs": [
        {
          "output_type": "execute_result",
          "data": {
            "text/plain": [
              "3.0692866711267768"
            ]
          },
          "metadata": {
            "tags": []
          },
          "execution_count": 31
        }
      ]
    },
    {
      "cell_type": "markdown",
      "metadata": {
        "id": "1ve5AywmY4PF"
      },
      "source": [
        "**Aufgabe e): Plot**"
      ]
    },
    {
      "cell_type": "code",
      "metadata": {
        "id": "4i9IuYQ6FIGj",
        "colab": {
          "base_uri": "https://localhost:8080/",
          "height": 312
        },
        "outputId": "25b9d700-c038-42e5-e078-b2d4323a03ff"
      },
      "source": [
        "from scipy.stats import poisson\n",
        "###percentiles\n",
        "per1 =poisson.ppf(0.025, yte_hat_poisson)\n",
        "per2 =poisson.ppf(0.975, yte_hat_poisson)\n",
        "\n",
        "\n",
        "plt.scatter(yte_hat_poisson, yte)\n",
        "plt.title(\"Comparison predicted/observed\")\n",
        "plt.xlabel('predicted mean number of fish caught')\n",
        "plt.ylabel('observed number of fish')\n",
        "plt.plot(yte_hat_poisson[np.argsort(yte_hat_poisson,axis=0)].flatten(), per1[np.argsort(yte_hat_poisson,axis=0)],c=\"green\")\n",
        "plt.plot(yte_hat_poisson[np.argsort(yte_hat_poisson,axis=0)].flatten(), per2[np.argsort(yte_hat_poisson,axis=0)],c=\"green\")\n",
        "plt.plot(yte_hat_poisson, yte_hat_poisson, c=\"black\")"
      ],
      "execution_count": 52,
      "outputs": [
        {
          "output_type": "execute_result",
          "data": {
            "text/plain": [
              "[<matplotlib.lines.Line2D at 0x7f67d820a2b0>]"
            ]
          },
          "metadata": {
            "tags": []
          },
          "execution_count": 52
        },
        {
          "output_type": "display_data",
          "data": {
            "image/png": "[encoded data removed]",
            "text/plain": [
              "<Figure size 432x288 with 1 Axes>"
            ]
          },
          "metadata": {
            "tags": [],
            "needs_background": "light"
          }
        }
      ]
    },
    {
      "cell_type": "code",
      "metadata": {
        "colab": {
          "base_uri": "https://localhost:8080/",
          "height": 145
        },
        "id": "l4bRDLW0a0_3",
        "outputId": "aa859576-871b-4fdf-f1a9-e7557e05d372"
      },
      "source": [
        "%version_information numpy"
      ],
      "execution_count": 56,
      "outputs": [
        {
          "output_type": "execute_result",
          "data": {
            "text/latex": "\\begin{tabular}{|l|l|}\\hline\n{\\bf Software} & {\\bf Version} \\\\ \\hline\\hline\nPython & 3.6.9 64bit [GCC 8.4.0] \\\\ \\hline\nIPython & 5.5.0 \\\\ \\hline\nOS & Linux 4.19.112+ x86\\_64 with Ubuntu 18.04 bionic \\\\ \\hline\nnumpy & 1.18.5 \\\\ \\hline\n\\hline \\multicolumn{2}{|l|}{Sat Nov 28 15:44:32 2020 UTC} \\\\ \\hline\n\\end{tabular}\n",
            "application/json": {
              "Software versions": [
                {
                  "version": "3.6.9 64bit [GCC 8.4.0]",
                  "module": "Python"
                },
                {
                  "version": "5.5.0",
                  "module": "IPython"
                },
                {
                  "version": "Linux 4.19.112+ x86_64 with Ubuntu 18.04 bionic",
                  "module": "OS"
                },
                {
                  "version": "1.18.5",
                  "module": "numpy"
                }
              ]
            },
            "text/html": [
              "<table><tr><th>Software</th><th>Version</th></tr><tr><td>Python</td><td>3.6.9 64bit [GCC 8.4.0]</td></tr><tr><td>IPython</td><td>5.5.0</td></tr><tr><td>OS</td><td>Linux 4.19.112+ x86_64 with Ubuntu 18.04 bionic</td></tr><tr><td>numpy</td><td>1.18.5</td></tr><tr><td colspan='2'>Sat Nov 28 15:44:32 2020 UTC</td></tr></table>"
            ],
            "text/plain": [
              "Software versions\n",
              "Python 3.6.9 64bit [GCC 8.4.0]\n",
              "IPython 5.5.0\n",
              "OS Linux 4.19.112+ x86_64 with Ubuntu 18.04 bionic\n",
              "numpy 1.18.5\n",
              "Sat Nov 28 15:44:32 2020 UTC"
            ]
          },
          "metadata": {
            "tags": []
          },
          "execution_count": 56
        }
      ]
    }
  ]
}